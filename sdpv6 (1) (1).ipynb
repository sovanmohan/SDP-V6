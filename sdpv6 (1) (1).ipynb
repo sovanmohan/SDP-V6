{
 "cells": [
  {
   "cell_type": "code",
   "execution_count": 1,
   "id": "e7417716-18f2-4660-a76e-f19bba0821d1",
   "metadata": {},
   "outputs": [
    {
     "name": "stdout",
     "output_type": "stream",
     "text": [
      "Requirement already satisfied: tensorflow in c:\\users\\lenovo\\anaconda3\\envs\\tf\\lib\\site-packages (2.3.0)\n",
      "Requirement already satisfied: absl-py>=0.7.0 in c:\\users\\lenovo\\anaconda3\\envs\\tf\\lib\\site-packages (from tensorflow) (2.1.0)\n",
      "Requirement already satisfied: astunparse==1.6.3 in c:\\users\\lenovo\\anaconda3\\envs\\tf\\lib\\site-packages (from tensorflow) (1.6.3)\n",
      "Collecting gast==0.3.3 (from tensorflow)\n",
      "  Downloading gast-0.3.3-py2.py3-none-any.whl.metadata (1.1 kB)\n",
      "Requirement already satisfied: google-pasta>=0.1.8 in c:\\users\\lenovo\\anaconda3\\envs\\tf\\lib\\site-packages (from tensorflow) (0.2.0)\n",
      "Requirement already satisfied: h5py<2.11.0,>=2.10.0 in c:\\users\\lenovo\\anaconda3\\envs\\tf\\lib\\site-packages (from tensorflow) (2.10.0)\n",
      "Requirement already satisfied: keras-preprocessing<1.2,>=1.1.1 in c:\\users\\lenovo\\anaconda3\\envs\\tf\\lib\\site-packages (from tensorflow) (1.1.2)\n",
      "Collecting numpy<1.19.0,>=1.16.0 (from tensorflow)\n",
      "  Downloading numpy-1.18.5-cp38-cp38-win_amd64.whl.metadata (2.1 kB)\n",
      "Requirement already satisfied: opt-einsum>=2.3.2 in c:\\users\\lenovo\\anaconda3\\envs\\tf\\lib\\site-packages (from tensorflow) (3.3.0)\n",
      "Requirement already satisfied: protobuf>=3.9.2 in c:\\users\\lenovo\\anaconda3\\envs\\tf\\lib\\site-packages (from tensorflow) (4.25.3)\n",
      "Requirement already satisfied: tensorboard<3,>=2.3.0 in c:\\users\\lenovo\\anaconda3\\envs\\tf\\lib\\site-packages (from tensorflow) (2.10.0)\n",
      "Collecting tensorflow-estimator<2.4.0,>=2.3.0 (from tensorflow)\n",
      "  Downloading tensorflow_estimator-2.3.0-py2.py3-none-any.whl.metadata (1.2 kB)\n",
      "Requirement already satisfied: termcolor>=1.1.0 in c:\\users\\lenovo\\anaconda3\\envs\\tf\\lib\\site-packages (from tensorflow) (2.1.0)\n",
      "Requirement already satisfied: wrapt>=1.11.1 in c:\\users\\lenovo\\anaconda3\\envs\\tf\\lib\\site-packages (from tensorflow) (1.14.1)\n",
      "Requirement already satisfied: wheel>=0.26 in c:\\users\\lenovo\\anaconda3\\envs\\tf\\lib\\site-packages (from tensorflow) (0.44.0)\n",
      "Requirement already satisfied: six>=1.12.0 in c:\\users\\lenovo\\anaconda3\\envs\\tf\\lib\\site-packages (from tensorflow) (1.16.0)\n",
      "Collecting scipy==1.4.1 (from tensorflow)\n",
      "  Downloading scipy-1.4.1-cp38-cp38-win_amd64.whl.metadata (2.0 kB)\n",
      "Requirement already satisfied: grpcio>=1.8.6 in c:\\users\\lenovo\\anaconda3\\envs\\tf\\lib\\site-packages (from tensorflow) (1.62.2)\n",
      "Requirement already satisfied: google-auth<3,>=1.6.3 in c:\\users\\lenovo\\anaconda3\\envs\\tf\\lib\\site-packages (from tensorboard<3,>=2.3.0->tensorflow) (2.29.0)\n",
      "Requirement already satisfied: google-auth-oauthlib<0.5,>=0.4.1 in c:\\users\\lenovo\\anaconda3\\envs\\tf\\lib\\site-packages (from tensorboard<3,>=2.3.0->tensorflow) (0.4.4)\n",
      "Requirement already satisfied: markdown>=2.6.8 in c:\\users\\lenovo\\anaconda3\\envs\\tf\\lib\\site-packages (from tensorboard<3,>=2.3.0->tensorflow) (3.4.1)\n",
      "Collecting protobuf>=3.9.2 (from tensorflow)\n",
      "  Downloading protobuf-3.19.6-cp38-cp38-win_amd64.whl.metadata (807 bytes)\n",
      "Requirement already satisfied: requests<3,>=2.21.0 in c:\\users\\lenovo\\anaconda3\\envs\\tf\\lib\\site-packages (from tensorboard<3,>=2.3.0->tensorflow) (2.32.3)\n",
      "Requirement already satisfied: setuptools>=41.0.0 in c:\\users\\lenovo\\anaconda3\\envs\\tf\\lib\\site-packages (from tensorboard<3,>=2.3.0->tensorflow) (75.1.0)\n",
      "Requirement already satisfied: tensorboard-data-server<0.7.0,>=0.6.0 in c:\\users\\lenovo\\anaconda3\\envs\\tf\\lib\\site-packages (from tensorboard<3,>=2.3.0->tensorflow) (0.6.1)\n",
      "Requirement already satisfied: tensorboard-plugin-wit>=1.6.0 in c:\\users\\lenovo\\anaconda3\\envs\\tf\\lib\\site-packages (from tensorboard<3,>=2.3.0->tensorflow) (1.8.1)\n",
      "Requirement already satisfied: werkzeug>=1.0.1 in c:\\users\\lenovo\\anaconda3\\envs\\tf\\lib\\site-packages (from tensorboard<3,>=2.3.0->tensorflow) (3.0.3)\n",
      "Requirement already satisfied: cachetools<6.0,>=2.0.0 in c:\\users\\lenovo\\anaconda3\\envs\\tf\\lib\\site-packages (from google-auth<3,>=1.6.3->tensorboard<3,>=2.3.0->tensorflow) (5.3.3)\n",
      "Requirement already satisfied: pyasn1-modules>=0.2.1 in c:\\users\\lenovo\\anaconda3\\envs\\tf\\lib\\site-packages (from google-auth<3,>=1.6.3->tensorboard<3,>=2.3.0->tensorflow) (0.2.8)\n",
      "Requirement already satisfied: rsa<5,>=3.1.4 in c:\\users\\lenovo\\anaconda3\\envs\\tf\\lib\\site-packages (from google-auth<3,>=1.6.3->tensorboard<3,>=2.3.0->tensorflow) (4.7.2)\n",
      "Requirement already satisfied: requests-oauthlib>=0.7.0 in c:\\users\\lenovo\\anaconda3\\envs\\tf\\lib\\site-packages (from google-auth-oauthlib<0.5,>=0.4.1->tensorboard<3,>=2.3.0->tensorflow) (2.0.0)\n",
      "Requirement already satisfied: importlib-metadata>=4.4 in c:\\users\\lenovo\\anaconda3\\envs\\tf\\lib\\site-packages (from markdown>=2.6.8->tensorboard<3,>=2.3.0->tensorflow) (7.0.1)\n",
      "Requirement already satisfied: charset-normalizer<4,>=2 in c:\\users\\lenovo\\anaconda3\\envs\\tf\\lib\\site-packages (from requests<3,>=2.21.0->tensorboard<3,>=2.3.0->tensorflow) (3.3.2)\n",
      "Requirement already satisfied: idna<4,>=2.5 in c:\\users\\lenovo\\anaconda3\\envs\\tf\\lib\\site-packages (from requests<3,>=2.21.0->tensorboard<3,>=2.3.0->tensorflow) (3.7)\n",
      "Requirement already satisfied: urllib3<3,>=1.21.1 in c:\\users\\lenovo\\anaconda3\\envs\\tf\\lib\\site-packages (from requests<3,>=2.21.0->tensorboard<3,>=2.3.0->tensorflow) (2.2.3)\n",
      "Requirement already satisfied: certifi>=2017.4.17 in c:\\users\\lenovo\\anaconda3\\envs\\tf\\lib\\site-packages (from requests<3,>=2.21.0->tensorboard<3,>=2.3.0->tensorflow) (2024.8.30)\n",
      "Requirement already satisfied: MarkupSafe>=2.1.1 in c:\\users\\lenovo\\anaconda3\\envs\\tf\\lib\\site-packages (from werkzeug>=1.0.1->tensorboard<3,>=2.3.0->tensorflow) (2.1.3)\n",
      "Requirement already satisfied: zipp>=0.5 in c:\\users\\lenovo\\anaconda3\\envs\\tf\\lib\\site-packages (from importlib-metadata>=4.4->markdown>=2.6.8->tensorboard<3,>=2.3.0->tensorflow) (3.20.2)\n",
      "Requirement already satisfied: pyasn1<0.5.0,>=0.4.6 in c:\\users\\lenovo\\anaconda3\\envs\\tf\\lib\\site-packages (from pyasn1-modules>=0.2.1->google-auth<3,>=1.6.3->tensorboard<3,>=2.3.0->tensorflow) (0.4.8)\n",
      "Requirement already satisfied: oauthlib>=3.0.0 in c:\\users\\lenovo\\anaconda3\\envs\\tf\\lib\\site-packages (from requests-oauthlib>=0.7.0->google-auth-oauthlib<0.5,>=0.4.1->tensorboard<3,>=2.3.0->tensorflow) (3.2.2)\n",
      "Downloading gast-0.3.3-py2.py3-none-any.whl (9.7 kB)\n",
      "Downloading scipy-1.4.1-cp38-cp38-win_amd64.whl (31.0 MB)\n",
      "   ---------------------------------------- 0.0/31.0 MB ? eta -:--:--\n",
      "   ---------------------------------------- 0.0/31.0 MB ? eta -:--:--\n",
      "   ---------------------------------------- 0.3/31.0 MB ? eta -:--:--\n",
      "    --------------------------------------- 0.5/31.0 MB 1.4 MB/s eta 0:00:22\n",
      "   - -------------------------------------- 0.8/31.0 MB 1.4 MB/s eta 0:00:22\n",
      "   - -------------------------------------- 1.0/31.0 MB 1.4 MB/s eta 0:00:22\n",
      "   - -------------------------------------- 1.3/31.0 MB 1.4 MB/s eta 0:00:22\n",
      "   -- ------------------------------------- 1.6/31.0 MB 1.4 MB/s eta 0:00:22\n",
      "   -- ------------------------------------- 1.8/31.0 MB 1.3 MB/s eta 0:00:23\n",
      "   -- ------------------------------------- 2.1/31.0 MB 1.2 MB/s eta 0:00:24\n",
      "   -- ------------------------------------- 2.1/31.0 MB 1.2 MB/s eta 0:00:24\n",
      "   --- ------------------------------------ 2.4/31.0 MB 1.2 MB/s eta 0:00:25\n",
      "   --- ------------------------------------ 2.4/31.0 MB 1.2 MB/s eta 0:00:25\n",
      "   --- ------------------------------------ 2.4/31.0 MB 1.2 MB/s eta 0:00:25\n",
      "   --- ------------------------------------ 2.6/31.0 MB 987.2 kB/s eta 0:00:29\n",
      "   --- ------------------------------------ 2.9/31.0 MB 998.6 kB/s eta 0:00:29\n",
      "   ---- ----------------------------------- 3.1/31.0 MB 1.0 MB/s eta 0:00:28\n",
      "   ---- ----------------------------------- 3.4/31.0 MB 1.0 MB/s eta 0:00:27\n",
      "   ----- ---------------------------------- 3.9/31.0 MB 1.1 MB/s eta 0:00:25\n",
      "   ----- ---------------------------------- 4.2/31.0 MB 1.1 MB/s eta 0:00:25\n",
      "   ----- ---------------------------------- 4.2/31.0 MB 1.1 MB/s eta 0:00:25\n",
      "   ----- ---------------------------------- 4.5/31.0 MB 1.1 MB/s eta 0:00:25\n",
      "   ------ --------------------------------- 4.7/31.0 MB 1.1 MB/s eta 0:00:25\n",
      "   ------ --------------------------------- 5.2/31.0 MB 1.1 MB/s eta 0:00:23\n",
      "   ------- -------------------------------- 5.5/31.0 MB 1.1 MB/s eta 0:00:23\n",
      "   ------- -------------------------------- 5.5/31.0 MB 1.1 MB/s eta 0:00:23\n",
      "   ------- -------------------------------- 5.8/31.0 MB 1.1 MB/s eta 0:00:23\n",
      "   ------- -------------------------------- 6.0/31.0 MB 1.1 MB/s eta 0:00:23\n",
      "   -------- ------------------------------- 6.6/31.0 MB 1.1 MB/s eta 0:00:22\n",
      "   -------- ------------------------------- 6.8/31.0 MB 1.2 MB/s eta 0:00:21\n",
      "   -------- ------------------------------- 6.8/31.0 MB 1.2 MB/s eta 0:00:21\n",
      "   --------- ------------------------------ 7.3/31.0 MB 1.2 MB/s eta 0:00:21\n",
      "   --------- ------------------------------ 7.6/31.0 MB 1.2 MB/s eta 0:00:20\n",
      "   ---------- ----------------------------- 7.9/31.0 MB 1.2 MB/s eta 0:00:20\n",
      "   ---------- ----------------------------- 8.1/31.0 MB 1.2 MB/s eta 0:00:20\n",
      "   ---------- ----------------------------- 8.4/31.0 MB 1.2 MB/s eta 0:00:19\n",
      "   ----------- ---------------------------- 8.7/31.0 MB 1.2 MB/s eta 0:00:19\n",
      "   ----------- ---------------------------- 8.9/31.0 MB 1.2 MB/s eta 0:00:19\n",
      "   ----------- ---------------------------- 9.2/31.0 MB 1.2 MB/s eta 0:00:19\n",
      "   ------------ --------------------------- 9.4/31.0 MB 1.2 MB/s eta 0:00:19\n",
      "   ------------ --------------------------- 9.7/31.0 MB 1.2 MB/s eta 0:00:19\n",
      "   ------------ --------------------------- 9.7/31.0 MB 1.2 MB/s eta 0:00:19\n",
      "   ------------ --------------------------- 10.0/31.0 MB 1.2 MB/s eta 0:00:19\n",
      "   ------------- -------------------------- 10.5/31.0 MB 1.2 MB/s eta 0:00:18\n",
      "   ------------- -------------------------- 10.5/31.0 MB 1.2 MB/s eta 0:00:18\n",
      "   ------------- -------------------------- 10.7/31.0 MB 1.2 MB/s eta 0:00:18\n",
      "   -------------- ------------------------- 11.0/31.0 MB 1.2 MB/s eta 0:00:17\n",
      "   -------------- ------------------------- 11.3/31.0 MB 1.2 MB/s eta 0:00:17\n",
      "   -------------- ------------------------- 11.5/31.0 MB 1.2 MB/s eta 0:00:17\n",
      "   --------------- ------------------------ 11.8/31.0 MB 1.2 MB/s eta 0:00:17\n",
      "   --------------- ------------------------ 11.8/31.0 MB 1.2 MB/s eta 0:00:17\n",
      "   --------------- ------------------------ 12.1/31.0 MB 1.1 MB/s eta 0:00:17\n",
      "   --------------- ------------------------ 12.3/31.0 MB 1.1 MB/s eta 0:00:17\n",
      "   ---------------- ----------------------- 12.6/31.0 MB 1.1 MB/s eta 0:00:17\n",
      "   ---------------- ----------------------- 12.6/31.0 MB 1.1 MB/s eta 0:00:17\n",
      "   ---------------- ----------------------- 12.6/31.0 MB 1.1 MB/s eta 0:00:17\n",
      "   ---------------- ----------------------- 12.6/31.0 MB 1.1 MB/s eta 0:00:17\n",
      "   ---------------- ----------------------- 12.6/31.0 MB 1.1 MB/s eta 0:00:17\n",
      "   ---------------- ----------------------- 12.8/31.0 MB 1.1 MB/s eta 0:00:17\n",
      "   ---------------- ----------------------- 13.1/31.0 MB 1.1 MB/s eta 0:00:17\n",
      "   ---------------- ----------------------- 13.1/31.0 MB 1.1 MB/s eta 0:00:17\n",
      "   ---------------- ----------------------- 13.1/31.0 MB 1.1 MB/s eta 0:00:17\n",
      "   ----------------- ---------------------- 13.4/31.0 MB 1.1 MB/s eta 0:00:17\n",
      "   ----------------- ---------------------- 13.6/31.0 MB 1.1 MB/s eta 0:00:17\n",
      "   ----------------- ---------------------- 13.9/31.0 MB 1.1 MB/s eta 0:00:17\n",
      "   ------------------ --------------------- 14.4/31.0 MB 1.1 MB/s eta 0:00:16\n",
      "   ------------------ --------------------- 14.7/31.0 MB 1.1 MB/s eta 0:00:16\n",
      "   ------------------- -------------------- 14.9/31.0 MB 1.1 MB/s eta 0:00:15\n",
      "   ------------------- -------------------- 15.2/31.0 MB 1.1 MB/s eta 0:00:15\n",
      "   ------------------- -------------------- 15.5/31.0 MB 1.1 MB/s eta 0:00:15\n",
      "   -------------------- ------------------- 15.7/31.0 MB 1.1 MB/s eta 0:00:14\n",
      "   -------------------- ------------------- 15.7/31.0 MB 1.1 MB/s eta 0:00:14\n",
      "   -------------------- ------------------- 15.7/31.0 MB 1.1 MB/s eta 0:00:14\n",
      "   -------------------- ------------------- 15.7/31.0 MB 1.1 MB/s eta 0:00:14\n",
      "   -------------------- ------------------- 15.7/31.0 MB 1.1 MB/s eta 0:00:14\n",
      "   -------------------- ------------------- 15.7/31.0 MB 1.1 MB/s eta 0:00:14\n",
      "   -------------------- ------------------- 16.0/31.0 MB 1.0 MB/s eta 0:00:15\n",
      "   --------------------- ------------------ 16.5/31.0 MB 1.0 MB/s eta 0:00:15\n",
      "   --------------------- ------------------ 16.8/31.0 MB 1.0 MB/s eta 0:00:14\n",
      "   --------------------- ------------------ 16.8/31.0 MB 1.0 MB/s eta 0:00:14\n",
      "   --------------------- ------------------ 17.0/31.0 MB 1.0 MB/s eta 0:00:14\n",
      "   ---------------------- ----------------- 17.3/31.0 MB 1.0 MB/s eta 0:00:14\n",
      "   ---------------------- ----------------- 17.6/31.0 MB 1.0 MB/s eta 0:00:13\n",
      "   ---------------------- ----------------- 17.8/31.0 MB 1.0 MB/s eta 0:00:13\n",
      "   ----------------------- ---------------- 18.4/31.0 MB 1.1 MB/s eta 0:00:13\n",
      "   ------------------------ --------------- 18.6/31.0 MB 1.1 MB/s eta 0:00:12\n",
      "   ------------------------ --------------- 19.1/31.0 MB 1.1 MB/s eta 0:00:12\n",
      "   ------------------------- -------------- 19.4/31.0 MB 1.1 MB/s eta 0:00:11\n",
      "   ------------------------- -------------- 19.9/31.0 MB 1.1 MB/s eta 0:00:11\n",
      "   ------------------------- -------------- 19.9/31.0 MB 1.1 MB/s eta 0:00:11\n",
      "   -------------------------- ------------- 20.2/31.0 MB 1.1 MB/s eta 0:00:11\n",
      "   -------------------------- ------------- 20.7/31.0 MB 1.1 MB/s eta 0:00:10\n",
      "   -------------------------- ------------- 20.7/31.0 MB 1.1 MB/s eta 0:00:10\n",
      "   --------------------------- ------------ 21.0/31.0 MB 1.1 MB/s eta 0:00:10\n",
      "   --------------------------- ------------ 21.2/31.0 MB 1.1 MB/s eta 0:00:09\n",
      "   --------------------------- ------------ 21.2/31.0 MB 1.1 MB/s eta 0:00:09\n",
      "   --------------------------- ------------ 21.5/31.0 MB 1.1 MB/s eta 0:00:09\n",
      "   --------------------------- ------------ 21.5/31.0 MB 1.1 MB/s eta 0:00:09\n",
      "   ---------------------------- ----------- 21.8/31.0 MB 1.1 MB/s eta 0:00:09\n",
      "   ---------------------------- ----------- 22.0/31.0 MB 1.1 MB/s eta 0:00:09\n",
      "   ---------------------------- ----------- 22.3/31.0 MB 1.1 MB/s eta 0:00:09\n",
      "   ----------------------------- ---------- 22.5/31.0 MB 1.1 MB/s eta 0:00:08\n",
      "   ----------------------------- ---------- 23.1/31.0 MB 1.1 MB/s eta 0:00:08\n",
      "   ------------------------------ --------- 23.3/31.0 MB 1.1 MB/s eta 0:00:08\n",
      "   ------------------------------ --------- 23.9/31.0 MB 1.1 MB/s eta 0:00:07\n",
      "   ------------------------------- -------- 24.1/31.0 MB 1.1 MB/s eta 0:00:07\n",
      "   ------------------------------- -------- 24.1/31.0 MB 1.1 MB/s eta 0:00:07\n",
      "   ------------------------------- -------- 24.6/31.0 MB 1.1 MB/s eta 0:00:06\n",
      "   -------------------------------- ------- 25.2/31.0 MB 1.1 MB/s eta 0:00:06\n",
      "   --------------------------------- ------ 25.7/31.0 MB 1.1 MB/s eta 0:00:05\n",
      "   --------------------------------- ------ 26.0/31.0 MB 1.1 MB/s eta 0:00:05\n",
      "   --------------------------------- ------ 26.2/31.0 MB 1.1 MB/s eta 0:00:05\n",
      "   ---------------------------------- ----- 26.7/31.0 MB 1.2 MB/s eta 0:00:04\n",
      "   ---------------------------------- ----- 27.0/31.0 MB 1.2 MB/s eta 0:00:04\n",
      "   ----------------------------------- ---- 27.3/31.0 MB 1.2 MB/s eta 0:00:04\n",
      "   ----------------------------------- ---- 27.3/31.0 MB 1.2 MB/s eta 0:00:04\n",
      "   ----------------------------------- ---- 27.5/31.0 MB 1.1 MB/s eta 0:00:04\n",
      "   ----------------------------------- ---- 27.5/31.0 MB 1.1 MB/s eta 0:00:04\n",
      "   ----------------------------------- ---- 27.5/31.0 MB 1.1 MB/s eta 0:00:04\n",
      "   ------------------------------------ --- 28.0/31.0 MB 1.1 MB/s eta 0:00:03\n",
      "   ------------------------------------ --- 28.0/31.0 MB 1.1 MB/s eta 0:00:03\n",
      "   ------------------------------------ --- 28.0/31.0 MB 1.1 MB/s eta 0:00:03\n",
      "   ------------------------------------ --- 28.3/31.0 MB 1.1 MB/s eta 0:00:03\n",
      "   ------------------------------------ --- 28.6/31.0 MB 1.1 MB/s eta 0:00:03\n",
      "   ------------------------------------- -- 28.8/31.0 MB 1.1 MB/s eta 0:00:02\n",
      "   ------------------------------------- -- 29.1/31.0 MB 1.1 MB/s eta 0:00:02\n",
      "   -------------------------------------- - 29.6/31.0 MB 1.1 MB/s eta 0:00:02\n",
      "   -------------------------------------- - 29.6/31.0 MB 1.1 MB/s eta 0:00:02\n",
      "   -------------------------------------- - 30.1/31.0 MB 1.1 MB/s eta 0:00:01\n",
      "   -------------------------------------- - 30.1/31.0 MB 1.1 MB/s eta 0:00:01\n",
      "   ---------------------------------------  30.4/31.0 MB 1.1 MB/s eta 0:00:01\n",
      "   ---------------------------------------  30.7/31.0 MB 1.1 MB/s eta 0:00:01\n",
      "   ---------------------------------------  30.7/31.0 MB 1.1 MB/s eta 0:00:01\n",
      "   ---------------------------------------  30.9/31.0 MB 1.1 MB/s eta 0:00:01\n",
      "   ---------------------------------------- 31.0/31.0 MB 1.1 MB/s eta 0:00:00\n",
      "Downloading numpy-1.18.5-cp38-cp38-win_amd64.whl (12.8 MB)\n",
      "   ---------------------------------------- 0.0/12.8 MB ? eta -:--:--\n",
      "    --------------------------------------- 0.3/12.8 MB ? eta -:--:--\n",
      "   - -------------------------------------- 0.5/12.8 MB 1.5 MB/s eta 0:00:09\n",
      "   -- ------------------------------------- 0.8/12.8 MB 1.6 MB/s eta 0:00:08\n",
      "   ---- ----------------------------------- 1.3/12.8 MB 1.8 MB/s eta 0:00:07\n",
      "   ----- ---------------------------------- 1.8/12.8 MB 1.9 MB/s eta 0:00:06\n",
      "   ------ --------------------------------- 2.1/12.8 MB 1.9 MB/s eta 0:00:06\n",
      "   ------- -------------------------------- 2.4/12.8 MB 1.7 MB/s eta 0:00:06\n",
      "   --------- ------------------------------ 2.9/12.8 MB 1.8 MB/s eta 0:00:06\n",
      "   --------- ------------------------------ 3.1/12.8 MB 1.8 MB/s eta 0:00:06\n",
      "   ---------- ----------------------------- 3.4/12.8 MB 1.7 MB/s eta 0:00:06\n",
      "   ------------ --------------------------- 3.9/12.8 MB 1.7 MB/s eta 0:00:06\n",
      "   ------------- -------------------------- 4.2/12.8 MB 1.8 MB/s eta 0:00:05\n",
      "   ------------- -------------------------- 4.5/12.8 MB 1.8 MB/s eta 0:00:05\n",
      "   --------------- ------------------------ 5.0/12.8 MB 1.8 MB/s eta 0:00:05\n",
      "   ---------------- ----------------------- 5.2/12.8 MB 1.7 MB/s eta 0:00:05\n",
      "   ----------------- ---------------------- 5.5/12.8 MB 1.8 MB/s eta 0:00:05\n",
      "   ------------------ --------------------- 5.8/12.8 MB 1.7 MB/s eta 0:00:05\n",
      "   ------------------- -------------------- 6.3/12.8 MB 1.7 MB/s eta 0:00:04\n",
      "   -------------------- ------------------- 6.6/12.8 MB 1.7 MB/s eta 0:00:04\n",
      "   ---------------------- ----------------- 7.1/12.8 MB 1.7 MB/s eta 0:00:04\n",
      "   ----------------------- ---------------- 7.3/12.8 MB 1.7 MB/s eta 0:00:04\n",
      "   ----------------------- ---------------- 7.6/12.8 MB 1.7 MB/s eta 0:00:03\n",
      "   ------------------------ --------------- 7.9/12.8 MB 1.7 MB/s eta 0:00:03\n",
      "   ------------------------ --------------- 7.9/12.8 MB 1.7 MB/s eta 0:00:03\n",
      "   ------------------------- -------------- 8.1/12.8 MB 1.6 MB/s eta 0:00:03\n",
      "   ------------------------- -------------- 8.1/12.8 MB 1.6 MB/s eta 0:00:03\n",
      "   ------------------------- -------------- 8.1/12.8 MB 1.6 MB/s eta 0:00:03\n",
      "   -------------------------- ------------- 8.4/12.8 MB 1.5 MB/s eta 0:00:03\n",
      "   -------------------------- ------------- 8.4/12.8 MB 1.5 MB/s eta 0:00:03\n",
      "   -------------------------- ------------- 8.4/12.8 MB 1.5 MB/s eta 0:00:03\n",
      "   --------------------------- ------------ 8.7/12.8 MB 1.4 MB/s eta 0:00:04\n",
      "   --------------------------- ------------ 8.7/12.8 MB 1.4 MB/s eta 0:00:04\n",
      "   --------------------------- ------------ 8.9/12.8 MB 1.3 MB/s eta 0:00:03\n",
      "   ---------------------------- ----------- 9.2/12.8 MB 1.3 MB/s eta 0:00:03\n",
      "   ----------------------------- ---------- 9.4/12.8 MB 1.3 MB/s eta 0:00:03\n",
      "   ------------------------------- -------- 10.0/12.8 MB 1.3 MB/s eta 0:00:03\n",
      "   ------------------------------- -------- 10.0/12.8 MB 1.3 MB/s eta 0:00:03\n",
      "   -------------------------------- ------- 10.2/12.8 MB 1.3 MB/s eta 0:00:02\n",
      "   -------------------------------- ------- 10.2/12.8 MB 1.3 MB/s eta 0:00:02\n",
      "   -------------------------------- ------- 10.5/12.8 MB 1.3 MB/s eta 0:00:02\n",
      "   --------------------------------- ------ 10.7/12.8 MB 1.3 MB/s eta 0:00:02\n",
      "   --------------------------------- ------ 10.7/12.8 MB 1.3 MB/s eta 0:00:02\n",
      "   ---------------------------------- ----- 11.0/12.8 MB 1.2 MB/s eta 0:00:02\n",
      "   ------------------------------------ --- 11.5/12.8 MB 1.3 MB/s eta 0:00:01\n",
      "   ------------------------------------ --- 11.5/12.8 MB 1.3 MB/s eta 0:00:01\n",
      "   ------------------------------------ --- 11.8/12.8 MB 1.2 MB/s eta 0:00:01\n",
      "   ------------------------------------- -- 12.1/12.8 MB 1.2 MB/s eta 0:00:01\n",
      "   -------------------------------------- - 12.3/12.8 MB 1.2 MB/s eta 0:00:01\n",
      "   ---------------------------------------  12.6/12.8 MB 1.2 MB/s eta 0:00:01\n",
      "   ---------------------------------------- 12.8/12.8 MB 1.2 MB/s eta 0:00:00\n",
      "Downloading protobuf-3.19.6-cp38-cp38-win_amd64.whl (896 kB)\n",
      "   ---------------------------------------- 0.0/896.1 kB ? eta -:--:--\n",
      "   ----------- ---------------------------- 262.1/896.1 kB ? eta -:--:--\n",
      "   ---------------------- --------------- 524.3/896.1 kB 929.6 kB/s eta 0:00:01\n",
      "   ----------------------------------- ---- 786.4/896.1 kB 1.1 MB/s eta 0:00:01\n",
      "   ---------------------------------------- 896.1/896.1 kB 1.1 MB/s eta 0:00:00\n",
      "Downloading tensorflow_estimator-2.3.0-py2.py3-none-any.whl (459 kB)\n",
      "Installing collected packages: tensorflow-estimator, protobuf, numpy, gast, scipy\n",
      "  Attempting uninstall: tensorflow-estimator\n",
      "    Found existing installation: tensorflow-estimator 2.6.0\n",
      "    Uninstalling tensorflow-estimator-2.6.0:\n",
      "      Successfully uninstalled tensorflow-estimator-2.6.0\n",
      "  Attempting uninstall: protobuf\n",
      "    Found existing installation: protobuf 4.25.3\n",
      "    Uninstalling protobuf-4.25.3:\n",
      "      Successfully uninstalled protobuf-4.25.3\n",
      "  Attempting uninstall: numpy\n",
      "    Found existing installation: numpy 1.19.2\n",
      "    Uninstalling numpy-1.19.2:\n",
      "      Successfully uninstalled numpy-1.19.2\n",
      "  Attempting uninstall: gast\n",
      "    Found existing installation: gast 0.4.0\n",
      "    Uninstalling gast-0.4.0:\n",
      "      Successfully uninstalled gast-0.4.0\n",
      "  Attempting uninstall: scipy\n",
      "    Found existing installation: scipy 1.6.2\n",
      "    Uninstalling scipy-1.6.2:\n",
      "      Successfully uninstalled scipy-1.6.2\n",
      "Successfully installed gast-0.3.3 numpy-1.18.5 protobuf-3.19.6 scipy-1.4.1 tensorflow-estimator-2.3.0\n"
     ]
    }
   ],
   "source": [
    "!pip install tensorflow"
   ]
  },
  {
   "cell_type": "code",
   "execution_count": 2,
   "id": "2c549c54-0880-491d-90b8-73b518180a0a",
   "metadata": {},
   "outputs": [],
   "source": [
    "import tensorflow as tf"
   ]
  },
  {
   "cell_type": "code",
   "execution_count": 3,
   "id": "83b0c66a-80e7-45c3-a7e3-d937f40ca32e",
   "metadata": {},
   "outputs": [
    {
     "name": "stdout",
     "output_type": "stream",
     "text": [
      "Collecting pytesseract\n",
      "  Using cached pytesseract-0.3.13-py3-none-any.whl.metadata (11 kB)\n",
      "Requirement already satisfied: packaging>=21.3 in c:\\users\\lenovo\\anaconda3\\envs\\tf\\lib\\site-packages (from pytesseract) (24.1)\n",
      "Collecting Pillow>=8.0.0 (from pytesseract)\n",
      "  Downloading pillow-10.4.0-cp38-cp38-win_amd64.whl.metadata (9.3 kB)\n",
      "Using cached pytesseract-0.3.13-py3-none-any.whl (14 kB)\n",
      "Downloading pillow-10.4.0-cp38-cp38-win_amd64.whl (2.6 MB)\n",
      "   ---------------------------------------- 0.0/2.6 MB ? eta -:--:--\n",
      "   ---- ----------------------------------- 0.3/2.6 MB ? eta -:--:--\n",
      "   -------- ------------------------------- 0.5/2.6 MB 1.3 MB/s eta 0:00:02\n",
      "   ------------ --------------------------- 0.8/2.6 MB 1.4 MB/s eta 0:00:02\n",
      "   -------------------- ------------------- 1.3/2.6 MB 1.5 MB/s eta 0:00:01\n",
      "   ------------------------ --------------- 1.6/2.6 MB 1.6 MB/s eta 0:00:01\n",
      "   ---------------------------- ----------- 1.8/2.6 MB 1.6 MB/s eta 0:00:01\n",
      "   ------------------------------------ --- 2.4/2.6 MB 1.7 MB/s eta 0:00:01\n",
      "   ---------------------------------------- 2.6/2.6 MB 1.6 MB/s eta 0:00:00\n",
      "Installing collected packages: Pillow, pytesseract\n",
      "Successfully installed Pillow-10.4.0 pytesseract-0.3.13\n"
     ]
    }
   ],
   "source": [
    "!pip install pytesseract"
   ]
  },
  {
   "cell_type": "code",
   "execution_count": 4,
   "id": "70743357-45a7-4e03-b261-a48a45870d8d",
   "metadata": {},
   "outputs": [],
   "source": [
    "import pytesseract\n",
    "pytesseract.pytesseract.tesseract_cmd = r'C:\\Program Files\\Tesseract-OCR\\tesseract.exe'\n"
   ]
  },
  {
   "cell_type": "code",
   "execution_count": 5,
   "id": "73022c09-1c84-43d2-a37e-ef5ad0efbc5f",
   "metadata": {},
   "outputs": [
    {
     "name": "stdout",
     "output_type": "stream",
     "text": [
      "['1.jpg\\t']\n"
     ]
    }
   ],
   "source": [
    "import os\n",
    "from PIL import Image\n",
    "\n",
    "image_dir = 'Downloads/tt'\n",
    "image_files = [f for f in os.listdir(image_dir) if f.lower().endswith(('.png', '.jpg', '.jpeg'))]\n",
    "import pytesseract\n",
    "\n",
    "annotations = []\n",
    "\n",
    "for image_file in image_files:\n",
    "    image_path = os.path.join(image_dir, image_file)\n",
    "    img = Image.open(image_path)\n",
    "    \n",
    "    # Perform OCR using Tesseract\n",
    "    text = pytesseract.image_to_string(img, lang='ori')  # 'ori' is the language code for Odia\n",
    "    annotations.append(f\"{image_file}\\t{text.strip()}\")\n",
    "    print(annotations)\n",
    "\n",
    "# Save annotations to a file\n",
    "with open('annotations.txt', 'w', encoding='utf-8') as f:\n",
    "    for annotation in annotations:\n",
    "        f.write(f\"{annotation}\\n\")\n",
    "\n",
    "\n"
   ]
  },
  {
   "cell_type": "code",
   "execution_count": 8,
   "id": "aa67456a-7237-418c-92f5-f288c467f3cf",
   "metadata": {},
   "outputs": [
    {
     "ename": "ImportError",
     "evalue": "Matplotlib requires numpy>=1.20; you have 1.18.5",
     "output_type": "error",
     "traceback": [
      "\u001b[1;31m---------------------------------------------------------------------------\u001b[0m",
      "\u001b[1;31mImportError\u001b[0m                               Traceback (most recent call last)",
      "Cell \u001b[1;32mIn[8], line 3\u001b[0m\n\u001b[0;32m      1\u001b[0m \u001b[38;5;28;01mfrom\u001b[39;00m \u001b[38;5;21;01mPIL\u001b[39;00m \u001b[38;5;28;01mimport\u001b[39;00m Image\n\u001b[0;32m      2\u001b[0m \u001b[38;5;28;01mimport\u001b[39;00m \u001b[38;5;21;01mnumpy\u001b[39;00m \u001b[38;5;28;01mas\u001b[39;00m \u001b[38;5;21;01mnp\u001b[39;00m\n\u001b[1;32m----> 3\u001b[0m \u001b[38;5;28;01mimport\u001b[39;00m \u001b[38;5;21;01mmatplotlib\u001b[39;00m\u001b[38;5;21;01m.\u001b[39;00m\u001b[38;5;21;01mpyplot\u001b[39;00m \u001b[38;5;28;01mas\u001b[39;00m \u001b[38;5;21;01mplt\u001b[39;00m\n\u001b[0;32m      4\u001b[0m \u001b[38;5;66;03m# Open the image using PIL\u001b[39;00m\n\u001b[0;32m      5\u001b[0m img_pil \u001b[38;5;241m=\u001b[39m Image\u001b[38;5;241m.\u001b[39mopen(\u001b[38;5;124m'\u001b[39m\u001b[38;5;124mDownloads/tt/1.jpg\u001b[39m\u001b[38;5;124m'\u001b[39m)\u001b[38;5;241m.\u001b[39mconvert(\u001b[38;5;124m'\u001b[39m\u001b[38;5;124mL\u001b[39m\u001b[38;5;124m'\u001b[39m)  \u001b[38;5;66;03m# Convert to grayscale\u001b[39;00m\n",
      "File \u001b[1;32m~\\anaconda3\\envs\\tf\\lib\\site-packages\\matplotlib\\__init__.py:255\u001b[0m\n\u001b[0;32m    250\u001b[0m         \u001b[38;5;28;01mif\u001b[39;00m parse_version(module\u001b[38;5;241m.\u001b[39m__version__) \u001b[38;5;241m<\u001b[39m parse_version(minver):\n\u001b[0;32m    251\u001b[0m             \u001b[38;5;28;01mraise\u001b[39;00m \u001b[38;5;167;01mImportError\u001b[39;00m(\u001b[38;5;124mf\u001b[39m\u001b[38;5;124m\"\u001b[39m\u001b[38;5;124mMatplotlib requires \u001b[39m\u001b[38;5;132;01m{\u001b[39;00mmodname\u001b[38;5;132;01m}\u001b[39;00m\u001b[38;5;124m>=\u001b[39m\u001b[38;5;132;01m{\u001b[39;00mminver\u001b[38;5;132;01m}\u001b[39;00m\u001b[38;5;124m; \u001b[39m\u001b[38;5;124m\"\u001b[39m\n\u001b[0;32m    252\u001b[0m                               \u001b[38;5;124mf\u001b[39m\u001b[38;5;124m\"\u001b[39m\u001b[38;5;124myou have \u001b[39m\u001b[38;5;132;01m{\u001b[39;00mmodule\u001b[38;5;241m.\u001b[39m__version__\u001b[38;5;132;01m}\u001b[39;00m\u001b[38;5;124m\"\u001b[39m)\n\u001b[1;32m--> 255\u001b[0m \u001b[43m_check_versions\u001b[49m\u001b[43m(\u001b[49m\u001b[43m)\u001b[49m\n\u001b[0;32m    258\u001b[0m \u001b[38;5;66;03m# The decorator ensures this always returns the same handler (and it is only\u001b[39;00m\n\u001b[0;32m    259\u001b[0m \u001b[38;5;66;03m# attached once).\u001b[39;00m\n\u001b[0;32m    260\u001b[0m \u001b[38;5;129m@functools\u001b[39m\u001b[38;5;241m.\u001b[39mlru_cache()\n\u001b[0;32m    261\u001b[0m \u001b[38;5;28;01mdef\u001b[39;00m \u001b[38;5;21m_ensure_handler\u001b[39m():\n",
      "File \u001b[1;32m~\\anaconda3\\envs\\tf\\lib\\site-packages\\matplotlib\\__init__.py:251\u001b[0m, in \u001b[0;36m_check_versions\u001b[1;34m()\u001b[0m\n\u001b[0;32m    249\u001b[0m module \u001b[38;5;241m=\u001b[39m importlib\u001b[38;5;241m.\u001b[39mimport_module(modname)\n\u001b[0;32m    250\u001b[0m \u001b[38;5;28;01mif\u001b[39;00m parse_version(module\u001b[38;5;241m.\u001b[39m__version__) \u001b[38;5;241m<\u001b[39m parse_version(minver):\n\u001b[1;32m--> 251\u001b[0m     \u001b[38;5;28;01mraise\u001b[39;00m \u001b[38;5;167;01mImportError\u001b[39;00m(\u001b[38;5;124mf\u001b[39m\u001b[38;5;124m\"\u001b[39m\u001b[38;5;124mMatplotlib requires \u001b[39m\u001b[38;5;132;01m{\u001b[39;00mmodname\u001b[38;5;132;01m}\u001b[39;00m\u001b[38;5;124m>=\u001b[39m\u001b[38;5;132;01m{\u001b[39;00mminver\u001b[38;5;132;01m}\u001b[39;00m\u001b[38;5;124m; \u001b[39m\u001b[38;5;124m\"\u001b[39m\n\u001b[0;32m    252\u001b[0m                       \u001b[38;5;124mf\u001b[39m\u001b[38;5;124m\"\u001b[39m\u001b[38;5;124myou have \u001b[39m\u001b[38;5;132;01m{\u001b[39;00mmodule\u001b[38;5;241m.\u001b[39m__version__\u001b[38;5;132;01m}\u001b[39;00m\u001b[38;5;124m\"\u001b[39m)\n",
      "\u001b[1;31mImportError\u001b[0m: Matplotlib requires numpy>=1.20; you have 1.18.5"
     ]
    }
   ],
   "source": [
    "from PIL import Image\n",
    "import numpy as np\n",
    "import matplotlib.pyplot as plt\n",
    "# Open the image using PIL\n",
    "img_pil = Image.open('Downloads/tt/1.jpg').convert('L')  # Convert to grayscale\n",
    "\n",
    "# Convert the PIL image to a NumPy array\n",
    "img_array = np.array(img_pil)\n",
    "\n",
    "# Display the image\n",
    "plt.imshow(img_array, cmap='gray')\n",
    "plt.title('Sample Image (PIL)')\n",
    "plt.axis('off')\n",
    "plt.show()\n"
   ]
  },
  {
   "cell_type": "code",
   "execution_count": 7,
   "id": "ba2b45d9-02a0-481f-9346-a9ecad42daff",
   "metadata": {},
   "outputs": [
    {
     "name": "stdout",
     "output_type": "stream",
     "text": [
      "Collecting matplotlib\n",
      "  Downloading matplotlib-3.7.5-cp38-cp38-win_amd64.whl.metadata (5.8 kB)\n",
      "Collecting contourpy>=1.0.1 (from matplotlib)\n",
      "  Downloading contourpy-1.1.1-cp38-cp38-win_amd64.whl.metadata (5.9 kB)\n",
      "Collecting cycler>=0.10 (from matplotlib)\n",
      "  Using cached cycler-0.12.1-py3-none-any.whl.metadata (3.8 kB)\n",
      "Collecting fonttools>=4.22.0 (from matplotlib)\n",
      "  Downloading fonttools-4.57.0-cp38-cp38-win_amd64.whl.metadata (104 kB)\n",
      "Collecting kiwisolver>=1.0.1 (from matplotlib)\n",
      "  Downloading kiwisolver-1.4.7-cp38-cp38-win_amd64.whl.metadata (6.4 kB)\n",
      "Collecting numpy<2,>=1.20 (from matplotlib)\n",
      "  Downloading numpy-1.24.4-cp38-cp38-win_amd64.whl.metadata (5.6 kB)\n",
      "Requirement already satisfied: packaging>=20.0 in c:\\users\\lenovo\\anaconda3\\envs\\tf\\lib\\site-packages (from matplotlib) (24.1)\n",
      "Requirement already satisfied: pillow>=6.2.0 in c:\\users\\lenovo\\anaconda3\\envs\\tf\\lib\\site-packages (from matplotlib) (10.4.0)\n",
      "Collecting pyparsing>=2.3.1 (from matplotlib)\n",
      "  Using cached pyparsing-3.1.4-py3-none-any.whl.metadata (5.1 kB)\n",
      "Requirement already satisfied: python-dateutil>=2.7 in c:\\users\\lenovo\\anaconda3\\envs\\tf\\lib\\site-packages (from matplotlib) (2.9.0.post0)\n",
      "Requirement already satisfied: importlib-resources>=3.2.0 in c:\\users\\lenovo\\anaconda3\\envs\\tf\\lib\\site-packages (from matplotlib) (6.4.0)\n",
      "Requirement already satisfied: zipp>=3.1.0 in c:\\users\\lenovo\\anaconda3\\envs\\tf\\lib\\site-packages (from importlib-resources>=3.2.0->matplotlib) (3.20.2)\n",
      "Requirement already satisfied: six>=1.5 in c:\\users\\lenovo\\anaconda3\\envs\\tf\\lib\\site-packages (from python-dateutil>=2.7->matplotlib) (1.16.0)\n",
      "Downloading matplotlib-3.7.5-cp38-cp38-win_amd64.whl (7.5 MB)\n",
      "   ---------------------------------------- 0.0/7.5 MB ? eta -:--:--\n",
      "   ---------------------------------------- 0.0/7.5 MB ? eta -:--:--\n",
      "   ---------------------------------------- 0.0/7.5 MB ? eta -:--:--\n",
      "   - -------------------------------------- 0.3/7.5 MB ? eta -:--:--\n",
      "   -- ------------------------------------- 0.5/7.5 MB 882.6 kB/s eta 0:00:08\n",
      "   -- ------------------------------------- 0.5/7.5 MB 882.6 kB/s eta 0:00:08\n",
      "   ---- ----------------------------------- 0.8/7.5 MB 762.0 kB/s eta 0:00:09\n",
      "   ---- ----------------------------------- 0.8/7.5 MB 762.0 kB/s eta 0:00:09\n",
      "   ----- ---------------------------------- 1.0/7.5 MB 680.3 kB/s eta 0:00:10\n",
      "   ----- ---------------------------------- 1.0/7.5 MB 680.3 kB/s eta 0:00:10\n",
      "   ----- ---------------------------------- 1.0/7.5 MB 680.3 kB/s eta 0:00:10\n",
      "   ----- ---------------------------------- 1.0/7.5 MB 680.3 kB/s eta 0:00:10\n",
      "   ----- ---------------------------------- 1.0/7.5 MB 680.3 kB/s eta 0:00:10\n",
      "   ----- ---------------------------------- 1.0/7.5 MB 680.3 kB/s eta 0:00:10\n",
      "   ------ --------------------------------- 1.3/7.5 MB 459.7 kB/s eta 0:00:14\n",
      "   -------- ------------------------------- 1.6/7.5 MB 493.5 kB/s eta 0:00:13\n",
      "   -------- ------------------------------- 1.6/7.5 MB 493.5 kB/s eta 0:00:13\n",
      "   --------- ------------------------------ 1.8/7.5 MB 505.7 kB/s eta 0:00:12\n",
      "   --------- ------------------------------ 1.8/7.5 MB 505.7 kB/s eta 0:00:12\n",
      "   ----------- ---------------------------- 2.1/7.5 MB 541.1 kB/s eta 0:00:10\n",
      "   ----------- ---------------------------- 2.1/7.5 MB 541.1 kB/s eta 0:00:10\n",
      "   ------------ --------------------------- 2.4/7.5 MB 550.0 kB/s eta 0:00:10\n",
      "   ------------- -------------------------- 2.6/7.5 MB 578.5 kB/s eta 0:00:09\n",
      "   ------------- -------------------------- 2.6/7.5 MB 578.5 kB/s eta 0:00:09\n",
      "   --------------- ------------------------ 2.9/7.5 MB 586.6 kB/s eta 0:00:08\n",
      "   --------------- ------------------------ 2.9/7.5 MB 586.6 kB/s eta 0:00:08\n",
      "   ---------------- ----------------------- 3.1/7.5 MB 593.3 kB/s eta 0:00:08\n",
      "   ---------------- ----------------------- 3.1/7.5 MB 593.3 kB/s eta 0:00:08\n",
      "   ------------------ --------------------- 3.4/7.5 MB 576.9 kB/s eta 0:00:08\n",
      "   ------------------ --------------------- 3.4/7.5 MB 576.9 kB/s eta 0:00:08\n",
      "   ------------------- -------------------- 3.7/7.5 MB 592.7 kB/s eta 0:00:07\n",
      "   ------------------- -------------------- 3.7/7.5 MB 592.7 kB/s eta 0:00:07\n",
      "   -------------------- ------------------- 3.9/7.5 MB 588.6 kB/s eta 0:00:07\n",
      "   -------------------- ------------------- 3.9/7.5 MB 588.6 kB/s eta 0:00:07\n",
      "   ---------------------- ----------------- 4.2/7.5 MB 590.8 kB/s eta 0:00:06\n",
      "   ---------------------- ----------------- 4.2/7.5 MB 590.8 kB/s eta 0:00:06\n",
      "   ----------------------- ---------------- 4.5/7.5 MB 589.9 kB/s eta 0:00:06\n",
      "   ----------------------- ---------------- 4.5/7.5 MB 589.9 kB/s eta 0:00:06\n",
      "   ----------------------- ---------------- 4.5/7.5 MB 589.9 kB/s eta 0:00:06\n",
      "   ------------------------- -------------- 4.7/7.5 MB 579.7 kB/s eta 0:00:05\n",
      "   ------------------------- -------------- 4.7/7.5 MB 579.7 kB/s eta 0:00:05\n",
      "   -------------------------- ------------- 5.0/7.5 MB 576.3 kB/s eta 0:00:05\n",
      "   -------------------------- ------------- 5.0/7.5 MB 576.3 kB/s eta 0:00:05\n",
      "   -------------------------- ------------- 5.0/7.5 MB 576.3 kB/s eta 0:00:05\n",
      "   -------------------------- ------------- 5.0/7.5 MB 576.3 kB/s eta 0:00:05\n",
      "   -------------------------- ------------- 5.0/7.5 MB 576.3 kB/s eta 0:00:05\n",
      "   -------------------------- ------------- 5.0/7.5 MB 576.3 kB/s eta 0:00:05\n",
      "   --------------------------- ------------ 5.2/7.5 MB 532.1 kB/s eta 0:00:05\n",
      "   --------------------------- ------------ 5.2/7.5 MB 532.1 kB/s eta 0:00:05\n",
      "   --------------------------- ------------ 5.2/7.5 MB 532.1 kB/s eta 0:00:05\n",
      "   ----------------------------- ---------- 5.5/7.5 MB 531.7 kB/s eta 0:00:04\n",
      "   ------------------------------ --------- 5.8/7.5 MB 543.7 kB/s eta 0:00:04\n",
      "   -------------------------------- ------- 6.0/7.5 MB 556.7 kB/s eta 0:00:03\n",
      "   --------------------------------- ------ 6.3/7.5 MB 570.8 kB/s eta 0:00:03\n",
      "   ---------------------------------- ----- 6.6/7.5 MB 583.6 kB/s eta 0:00:02\n",
      "   ------------------------------------ --- 6.8/7.5 MB 597.5 kB/s eta 0:00:02\n",
      "   ---------------------------------------  7.3/7.5 MB 625.6 kB/s eta 0:00:01\n",
      "   ---------------------------------------  7.3/7.5 MB 625.6 kB/s eta 0:00:01\n",
      "   ---------------------------------------- 7.5/7.5 MB 622.4 kB/s eta 0:00:00\n",
      "Downloading contourpy-1.1.1-cp38-cp38-win_amd64.whl (477 kB)\n",
      "Using cached cycler-0.12.1-py3-none-any.whl (8.3 kB)\n",
      "Downloading fonttools-4.57.0-cp38-cp38-win_amd64.whl (1.5 MB)\n",
      "   ---------------------------------------- 0.0/1.5 MB ? eta -:--:--\n",
      "   ------ --------------------------------- 0.3/1.5 MB ? eta -:--:--\n",
      "   ------------- -------------------------- 0.5/1.5 MB 1.5 MB/s eta 0:00:01\n",
      "   --------------------------- ------------ 1.0/1.5 MB 1.9 MB/s eta 0:00:01\n",
      "   ---------------------------------- ----- 1.3/1.5 MB 1.8 MB/s eta 0:00:01\n",
      "   ---------------------------------------- 1.5/1.5 MB 1.7 MB/s eta 0:00:00\n",
      "Downloading kiwisolver-1.4.7-cp38-cp38-win_amd64.whl (55 kB)\n",
      "Downloading numpy-1.24.4-cp38-cp38-win_amd64.whl (14.9 MB)\n",
      "   ---------------------------------------- 0.0/14.9 MB ? eta -:--:--\n",
      "    --------------------------------------- 0.3/14.9 MB ? eta -:--:--\n",
      "   - -------------------------------------- 0.5/14.9 MB 1.7 MB/s eta 0:00:09\n",
      "   -- ------------------------------------- 0.8/14.9 MB 1.4 MB/s eta 0:00:11\n",
      "   -- ------------------------------------- 1.0/14.9 MB 1.3 MB/s eta 0:00:11\n",
      "   -- ------------------------------------- 1.0/14.9 MB 1.3 MB/s eta 0:00:11\n",
      "   ---- ----------------------------------- 1.6/14.9 MB 1.2 MB/s eta 0:00:11\n",
      "   ---- ----------------------------------- 1.8/14.9 MB 1.2 MB/s eta 0:00:11\n",
      "   ----- ---------------------------------- 2.1/14.9 MB 1.3 MB/s eta 0:00:10\n",
      "   ------ --------------------------------- 2.4/14.9 MB 1.2 MB/s eta 0:00:11\n",
      "   ------- -------------------------------- 2.6/14.9 MB 1.2 MB/s eta 0:00:10\n",
      "   ------- -------------------------------- 2.9/14.9 MB 1.3 MB/s eta 0:00:10\n",
      "   --------- ------------------------------ 3.4/14.9 MB 1.4 MB/s eta 0:00:09\n",
      "   --------- ------------------------------ 3.7/14.9 MB 1.3 MB/s eta 0:00:09\n",
      "   --------- ------------------------------ 3.7/14.9 MB 1.3 MB/s eta 0:00:09\n",
      "   ---------- ----------------------------- 3.9/14.9 MB 1.2 MB/s eta 0:00:09\n",
      "   ----------- ---------------------------- 4.2/14.9 MB 1.2 MB/s eta 0:00:09\n",
      "   ----------- ---------------------------- 4.5/14.9 MB 1.3 MB/s eta 0:00:09\n",
      "   ----------- ---------------------------- 4.5/14.9 MB 1.3 MB/s eta 0:00:09\n",
      "   ------------ --------------------------- 4.7/14.9 MB 1.2 MB/s eta 0:00:09\n",
      "   ------------- -------------------------- 5.0/14.9 MB 1.2 MB/s eta 0:00:09\n",
      "   -------------- ------------------------- 5.2/14.9 MB 1.2 MB/s eta 0:00:08\n",
      "   --------------- ------------------------ 5.8/14.9 MB 1.2 MB/s eta 0:00:08\n",
      "   ---------------- ----------------------- 6.0/14.9 MB 1.3 MB/s eta 0:00:08\n",
      "   ---------------- ----------------------- 6.3/14.9 MB 1.2 MB/s eta 0:00:07\n",
      "   ---------------- ----------------------- 6.3/14.9 MB 1.2 MB/s eta 0:00:07\n",
      "   ----------------- ---------------------- 6.6/14.9 MB 1.2 MB/s eta 0:00:07\n",
      "   ----------------- ---------------------- 6.6/14.9 MB 1.2 MB/s eta 0:00:07\n",
      "   ----------------- ---------------------- 6.6/14.9 MB 1.2 MB/s eta 0:00:07\n",
      "   ------------------ --------------------- 6.8/14.9 MB 1.1 MB/s eta 0:00:08\n",
      "   ------------------ --------------------- 6.8/14.9 MB 1.1 MB/s eta 0:00:08\n",
      "   ------------------- -------------------- 7.1/14.9 MB 1.1 MB/s eta 0:00:08\n",
      "   ------------------- -------------------- 7.3/14.9 MB 1.1 MB/s eta 0:00:07\n",
      "   -------------------- ------------------- 7.6/14.9 MB 1.1 MB/s eta 0:00:07\n",
      "   --------------------- ------------------ 7.9/14.9 MB 1.1 MB/s eta 0:00:07\n",
      "   --------------------- ------------------ 8.1/14.9 MB 1.1 MB/s eta 0:00:07\n",
      "   ---------------------- ----------------- 8.4/14.9 MB 1.1 MB/s eta 0:00:06\n",
      "   ----------------------- ---------------- 8.7/14.9 MB 1.1 MB/s eta 0:00:06\n",
      "   ----------------------- ---------------- 8.9/14.9 MB 1.1 MB/s eta 0:00:06\n",
      "   ----------------------- ---------------- 8.9/14.9 MB 1.1 MB/s eta 0:00:06\n",
      "   ------------------------ --------------- 9.2/14.9 MB 1.1 MB/s eta 0:00:06\n",
      "   ------------------------- -------------- 9.4/14.9 MB 1.1 MB/s eta 0:00:05\n",
      "   -------------------------- ------------- 9.7/14.9 MB 1.1 MB/s eta 0:00:05\n",
      "   -------------------------- ------------- 9.7/14.9 MB 1.1 MB/s eta 0:00:05\n",
      "   -------------------------- ------------- 10.0/14.9 MB 1.1 MB/s eta 0:00:05\n",
      "   --------------------------- ------------ 10.2/14.9 MB 1.1 MB/s eta 0:00:05\n",
      "   --------------------------- ------------ 10.2/14.9 MB 1.1 MB/s eta 0:00:05\n",
      "   ---------------------------- ----------- 10.5/14.9 MB 1.1 MB/s eta 0:00:05\n",
      "   ---------------------------- ----------- 10.5/14.9 MB 1.1 MB/s eta 0:00:05\n",
      "   ---------------------------- ----------- 10.5/14.9 MB 1.1 MB/s eta 0:00:05\n",
      "   ---------------------------- ----------- 10.5/14.9 MB 1.1 MB/s eta 0:00:05\n",
      "   ---------------------------- ----------- 10.7/14.9 MB 1.0 MB/s eta 0:00:05\n",
      "   ---------------------------- ----------- 10.7/14.9 MB 1.0 MB/s eta 0:00:05\n",
      "   ---------------------------- ----------- 10.7/14.9 MB 1.0 MB/s eta 0:00:05\n",
      "   ----------------------------- ---------- 11.0/14.9 MB 972.9 kB/s eta 0:00:04\n",
      "   ----------------------------- ---------- 11.0/14.9 MB 972.9 kB/s eta 0:00:04\n",
      "   ----------------------------- ---------- 11.0/14.9 MB 972.9 kB/s eta 0:00:04\n",
      "   ----------------------------- ---------- 11.0/14.9 MB 972.9 kB/s eta 0:00:04\n",
      "   ----------------------------- ---------- 11.0/14.9 MB 972.9 kB/s eta 0:00:04\n",
      "   ----------------------------- ---------- 11.0/14.9 MB 972.9 kB/s eta 0:00:04\n",
      "   ------------------------------ --------- 11.3/14.9 MB 902.2 kB/s eta 0:00:04\n",
      "   ------------------------------ --------- 11.3/14.9 MB 902.2 kB/s eta 0:00:04\n",
      "   ------------------------------- -------- 11.5/14.9 MB 890.6 kB/s eta 0:00:04\n",
      "   ------------------------------- -------- 11.5/14.9 MB 890.6 kB/s eta 0:00:04\n",
      "   ------------------------------- -------- 11.8/14.9 MB 883.0 kB/s eta 0:00:04\n",
      "   ------------------------------- -------- 11.8/14.9 MB 883.0 kB/s eta 0:00:04\n",
      "   ------------------------------- -------- 11.8/14.9 MB 883.0 kB/s eta 0:00:04\n",
      "   -------------------------------- ------- 12.1/14.9 MB 862.8 kB/s eta 0:00:04\n",
      "   -------------------------------- ------- 12.1/14.9 MB 862.8 kB/s eta 0:00:04\n",
      "   --------------------------------- ------ 12.3/14.9 MB 851.8 kB/s eta 0:00:03\n",
      "   --------------------------------- ------ 12.3/14.9 MB 851.8 kB/s eta 0:00:03\n",
      "   --------------------------------- ------ 12.6/14.9 MB 847.0 kB/s eta 0:00:03\n",
      "   ---------------------------------- ----- 12.8/14.9 MB 851.2 kB/s eta 0:00:03\n",
      "   ---------------------------------- ----- 12.8/14.9 MB 851.2 kB/s eta 0:00:03\n",
      "   ----------------------------------- ---- 13.1/14.9 MB 848.4 kB/s eta 0:00:03\n",
      "   ----------------------------------- ---- 13.1/14.9 MB 848.4 kB/s eta 0:00:03\n",
      "   ----------------------------------- ---- 13.4/14.9 MB 834.6 kB/s eta 0:00:02\n",
      "   ------------------------------------ --- 13.6/14.9 MB 837.2 kB/s eta 0:00:02\n",
      "   ------------------------------------ --- 13.6/14.9 MB 837.2 kB/s eta 0:00:02\n",
      "   ------------------------------------ --- 13.6/14.9 MB 837.2 kB/s eta 0:00:02\n",
      "   ------------------------------------- -- 13.9/14.9 MB 820.7 kB/s eta 0:00:02\n",
      "   ------------------------------------- -- 13.9/14.9 MB 820.7 kB/s eta 0:00:02\n",
      "   -------------------------------------- - 14.2/14.9 MB 816.5 kB/s eta 0:00:01\n",
      "   -------------------------------------- - 14.2/14.9 MB 816.5 kB/s eta 0:00:01\n",
      "   -------------------------------------- - 14.2/14.9 MB 816.5 kB/s eta 0:00:01\n",
      "   -------------------------------------- - 14.4/14.9 MB 808.9 kB/s eta 0:00:01\n",
      "   ---------------------------------------  14.7/14.9 MB 812.3 kB/s eta 0:00:01\n",
      "   ---------------------------------------  14.7/14.9 MB 812.3 kB/s eta 0:00:01\n",
      "   ---------------------------------------  14.7/14.9 MB 812.3 kB/s eta 0:00:01\n",
      "   ---------------------------------------  14.7/14.9 MB 812.3 kB/s eta 0:00:01\n",
      "   ---------------------------------------- 14.9/14.9 MB 782.2 kB/s eta 0:00:00\n",
      "Using cached pyparsing-3.1.4-py3-none-any.whl (104 kB)\n",
      "Installing collected packages: pyparsing, numpy, kiwisolver, fonttools, cycler, contourpy, matplotlib\n",
      "  Attempting uninstall: numpy\n",
      "    Found existing installation: numpy 1.18.5\n",
      "    Uninstalling numpy-1.18.5:\n",
      "      Successfully uninstalled numpy-1.18.5\n",
      "Successfully installed contourpy-1.1.1 cycler-0.12.1 fonttools-4.57.0 kiwisolver-1.4.7 matplotlib-3.7.5 numpy-1.24.4 pyparsing-3.1.4\n"
     ]
    },
    {
     "name": "stderr",
     "output_type": "stream",
     "text": [
      "  WARNING: Failed to remove contents in a temporary directory 'C:\\Users\\lenovo\\anaconda3\\envs\\tf\\Lib\\site-packages\\~umpy'.\n",
      "  You can safely remove it manually.\n",
      "ERROR: pip's dependency resolver does not currently take into account all the packages that are installed. This behaviour is the source of the following dependency conflicts.\n",
      "tensorflow 2.3.0 requires numpy<1.19.0,>=1.16.0, but you have numpy 1.24.4 which is incompatible.\n"
     ]
    }
   ],
   "source": [
    "!pip install matplotlib"
   ]
  },
  {
   "cell_type": "code",
   "execution_count": 9,
   "id": "4cc7b4b1-9d6e-4149-947c-2d3e63e3c144",
   "metadata": {},
   "outputs": [
    {
     "name": "stdout",
     "output_type": "stream",
     "text": [
      "Requirement already satisfied: numpy in c:\\users\\lenovo\\anaconda3\\envs\\tf\\lib\\site-packages (1.24.4)\n",
      "Note: you may need to restart the kernel to use updated packages.\n"
     ]
    }
   ],
   "source": [
    "pip install numpy --upgrade"
   ]
  },
  {
   "cell_type": "code",
   "execution_count": 10,
   "id": "a44ab074-dd4b-4c9e-86b7-6e8c5cb418ee",
   "metadata": {},
   "outputs": [
    {
     "ename": "ImportError",
     "evalue": "Matplotlib requires numpy>=1.20; you have 1.18.5",
     "output_type": "error",
     "traceback": [
      "\u001b[1;31m---------------------------------------------------------------------------\u001b[0m",
      "\u001b[1;31mImportError\u001b[0m                               Traceback (most recent call last)",
      "Cell \u001b[1;32mIn[10], line 3\u001b[0m\n\u001b[0;32m      1\u001b[0m \u001b[38;5;28;01mfrom\u001b[39;00m \u001b[38;5;21;01mPIL\u001b[39;00m \u001b[38;5;28;01mimport\u001b[39;00m Image\n\u001b[0;32m      2\u001b[0m \u001b[38;5;28;01mimport\u001b[39;00m \u001b[38;5;21;01mnumpy\u001b[39;00m \u001b[38;5;28;01mas\u001b[39;00m \u001b[38;5;21;01mnp\u001b[39;00m\n\u001b[1;32m----> 3\u001b[0m \u001b[38;5;28;01mimport\u001b[39;00m \u001b[38;5;21;01mmatplotlib\u001b[39;00m\u001b[38;5;21;01m.\u001b[39;00m\u001b[38;5;21;01mpyplot\u001b[39;00m \u001b[38;5;28;01mas\u001b[39;00m \u001b[38;5;21;01mplt\u001b[39;00m\n\u001b[0;32m      4\u001b[0m \u001b[38;5;66;03m# Open the image using PIL\u001b[39;00m\n\u001b[0;32m      5\u001b[0m img_pil \u001b[38;5;241m=\u001b[39m Image\u001b[38;5;241m.\u001b[39mopen(\u001b[38;5;124m'\u001b[39m\u001b[38;5;124mDownloads/tt/1.jpg\u001b[39m\u001b[38;5;124m'\u001b[39m)\u001b[38;5;241m.\u001b[39mconvert(\u001b[38;5;124m'\u001b[39m\u001b[38;5;124mL\u001b[39m\u001b[38;5;124m'\u001b[39m)  \u001b[38;5;66;03m# Convert to grayscale\u001b[39;00m\n",
      "File \u001b[1;32m~\\anaconda3\\envs\\tf\\lib\\site-packages\\matplotlib\\__init__.py:255\u001b[0m\n\u001b[0;32m    250\u001b[0m         \u001b[38;5;28;01mif\u001b[39;00m parse_version(module\u001b[38;5;241m.\u001b[39m__version__) \u001b[38;5;241m<\u001b[39m parse_version(minver):\n\u001b[0;32m    251\u001b[0m             \u001b[38;5;28;01mraise\u001b[39;00m \u001b[38;5;167;01mImportError\u001b[39;00m(\u001b[38;5;124mf\u001b[39m\u001b[38;5;124m\"\u001b[39m\u001b[38;5;124mMatplotlib requires \u001b[39m\u001b[38;5;132;01m{\u001b[39;00mmodname\u001b[38;5;132;01m}\u001b[39;00m\u001b[38;5;124m>=\u001b[39m\u001b[38;5;132;01m{\u001b[39;00mminver\u001b[38;5;132;01m}\u001b[39;00m\u001b[38;5;124m; \u001b[39m\u001b[38;5;124m\"\u001b[39m\n\u001b[0;32m    252\u001b[0m                               \u001b[38;5;124mf\u001b[39m\u001b[38;5;124m\"\u001b[39m\u001b[38;5;124myou have \u001b[39m\u001b[38;5;132;01m{\u001b[39;00mmodule\u001b[38;5;241m.\u001b[39m__version__\u001b[38;5;132;01m}\u001b[39;00m\u001b[38;5;124m\"\u001b[39m)\n\u001b[1;32m--> 255\u001b[0m \u001b[43m_check_versions\u001b[49m\u001b[43m(\u001b[49m\u001b[43m)\u001b[49m\n\u001b[0;32m    258\u001b[0m \u001b[38;5;66;03m# The decorator ensures this always returns the same handler (and it is only\u001b[39;00m\n\u001b[0;32m    259\u001b[0m \u001b[38;5;66;03m# attached once).\u001b[39;00m\n\u001b[0;32m    260\u001b[0m \u001b[38;5;129m@functools\u001b[39m\u001b[38;5;241m.\u001b[39mlru_cache()\n\u001b[0;32m    261\u001b[0m \u001b[38;5;28;01mdef\u001b[39;00m \u001b[38;5;21m_ensure_handler\u001b[39m():\n",
      "File \u001b[1;32m~\\anaconda3\\envs\\tf\\lib\\site-packages\\matplotlib\\__init__.py:251\u001b[0m, in \u001b[0;36m_check_versions\u001b[1;34m()\u001b[0m\n\u001b[0;32m    249\u001b[0m module \u001b[38;5;241m=\u001b[39m importlib\u001b[38;5;241m.\u001b[39mimport_module(modname)\n\u001b[0;32m    250\u001b[0m \u001b[38;5;28;01mif\u001b[39;00m parse_version(module\u001b[38;5;241m.\u001b[39m__version__) \u001b[38;5;241m<\u001b[39m parse_version(minver):\n\u001b[1;32m--> 251\u001b[0m     \u001b[38;5;28;01mraise\u001b[39;00m \u001b[38;5;167;01mImportError\u001b[39;00m(\u001b[38;5;124mf\u001b[39m\u001b[38;5;124m\"\u001b[39m\u001b[38;5;124mMatplotlib requires \u001b[39m\u001b[38;5;132;01m{\u001b[39;00mmodname\u001b[38;5;132;01m}\u001b[39;00m\u001b[38;5;124m>=\u001b[39m\u001b[38;5;132;01m{\u001b[39;00mminver\u001b[38;5;132;01m}\u001b[39;00m\u001b[38;5;124m; \u001b[39m\u001b[38;5;124m\"\u001b[39m\n\u001b[0;32m    252\u001b[0m                       \u001b[38;5;124mf\u001b[39m\u001b[38;5;124m\"\u001b[39m\u001b[38;5;124myou have \u001b[39m\u001b[38;5;132;01m{\u001b[39;00mmodule\u001b[38;5;241m.\u001b[39m__version__\u001b[38;5;132;01m}\u001b[39;00m\u001b[38;5;124m\"\u001b[39m)\n",
      "\u001b[1;31mImportError\u001b[0m: Matplotlib requires numpy>=1.20; you have 1.18.5"
     ]
    }
   ],
   "source": [
    "from PIL import Image\n",
    "import numpy as np\n",
    "import matplotlib.pyplot as plt\n",
    "# Open the image using PIL\n",
    "img_pil = Image.open('Downloads/tt/1.jpg').convert('L')  # Convert to grayscale\n",
    "\n",
    "# Convert the PIL image to a NumPy array\n",
    "img_array = np.array(img_pil)\n",
    "\n",
    "# Display the image\n",
    "plt.imshow(img_array, cmap='gray')\n",
    "plt.title('Sample Image (PIL)')\n",
    "plt.axis('off')\n",
    "plt.show()\n"
   ]
  },
  {
   "cell_type": "code",
   "execution_count": 11,
   "id": "8dd87abc-6ce8-4b12-a8ad-139a2dceb6f1",
   "metadata": {},
   "outputs": [
    {
     "ename": "NameError",
     "evalue": "name 'numpy' is not defined",
     "output_type": "error",
     "traceback": [
      "\u001b[1;31m---------------------------------------------------------------------------\u001b[0m",
      "\u001b[1;31mNameError\u001b[0m                                 Traceback (most recent call last)",
      "Cell \u001b[1;32mIn[11], line 1\u001b[0m\n\u001b[1;32m----> 1\u001b[0m \u001b[43mnumpy\u001b[49m \u001b[38;5;241m-\u001b[39m\u001b[38;5;241m-\u001b[39mversion\n",
      "\u001b[1;31mNameError\u001b[0m: name 'numpy' is not defined"
     ]
    }
   ],
   "source": [
    "numpy --version"
   ]
  },
  {
   "cell_type": "code",
   "execution_count": 12,
   "id": "e0278233-a904-46cf-94c5-1320e7568ee9",
   "metadata": {},
   "outputs": [
    {
     "name": "stdout",
     "output_type": "stream",
     "text": [
      "Requirement already satisfied: numpy in c:\\users\\lenovo\\anaconda3\\envs\\tf\\lib\\site-packages (1.24.4)\n",
      "Note: you may need to restart the kernel to use updated packages.\n"
     ]
    }
   ],
   "source": [
    "pip install --upgrade numpy"
   ]
  },
  {
   "cell_type": "code",
   "execution_count": 1,
   "id": "0052af2d-7901-4cbf-a030-f798671c6a2f",
   "metadata": {},
   "outputs": [
    {
     "data": {
      "image/png": "[encoded data removed]",
      "text/plain": [
       "<Figure size 640x480 with 1 Axes>"
      ]
     },
     "metadata": {},
     "output_type": "display_data"
    }
   ],
   "source": [
    "from PIL import Image\n",
    "import numpy as np\n",
    "import matplotlib.pyplot as plt\n",
    "# Open the image using PIL\n",
    "img_pil = Image.open('Downloads/tt/1.jpg').convert('L')  # Convert to grayscale\n",
    "\n",
    "# Convert the PIL image to a NumPy array\n",
    "img_array = np.array(img_pil)\n",
    "\n",
    "# Display the image\n",
    "plt.imshow(img_array, cmap='gray')\n",
    "plt.title('Sample Image (PIL)')\n",
    "plt.axis('off')\n",
    "plt.show()\n"
   ]
  },
  {
   "cell_type": "code",
   "execution_count": 4,
   "id": "db9aab92-adef-45ea-b585-777f97f25344",
   "metadata": {},
   "outputs": [
    {
     "name": "stdout",
     "output_type": "stream",
     "text": [
      "Collecting opencv-pythonNote: you may need to restart the kernel to use updated packages.\n",
      "\n",
      "  Using cached opencv_python-4.11.0.86-cp37-abi3-win_amd64.whl.metadata (20 kB)\n",
      "Requirement already satisfied: numpy>=1.17.0 in c:\\users\\lenovo\\anaconda3\\envs\\tf\\lib\\site-packages (from opencv-python) (1.24.4)\n",
      "Using cached opencv_python-4.11.0.86-cp37-abi3-win_amd64.whl (39.5 MB)\n",
      "Installing collected packages: opencv-python\n",
      "Successfully installed opencv-python-4.11.0.86\n"
     ]
    }
   ],
   "source": [
    "pip install opencv-python"
   ]
  },
  {
   "cell_type": "code",
   "execution_count": 14,
   "id": "fa80ff89-f80f-4ef5-9cf0-f401f1597ebf",
   "metadata": {},
   "outputs": [
    {
     "name": "stdout",
     "output_type": "stream",
     "text": [
      "Collecting numpy==1.23.5\n",
      "  Downloading numpy-1.23.5-cp38-cp38-win_amd64.whl.metadata (2.3 kB)\n",
      "Downloading numpy-1.23.5-cp38-cp38-win_amd64.whl (14.7 MB)\n",
      "   ---------------------------------------- 0.0/14.7 MB ? eta -:--:--\n",
      "   ---------------------------------------- 0.0/14.7 MB ? eta -:--:--\n",
      "    --------------------------------------- 0.3/14.7 MB ? eta -:--:--\n",
      "    --------------------------------------- 0.3/14.7 MB ? eta -:--:--\n",
      "   - -------------------------------------- 0.5/14.7 MB 837.5 kB/s eta 0:00:17\n",
      "   -- ------------------------------------- 0.8/14.7 MB 931.2 kB/s eta 0:00:15\n",
      "   -- ------------------------------------- 1.0/14.7 MB 967.3 kB/s eta 0:00:15\n",
      "   -- ------------------------------------- 1.0/14.7 MB 967.3 kB/s eta 0:00:15\n",
      "   --- ------------------------------------ 1.3/14.7 MB 945.5 kB/s eta 0:00:15\n",
      "   ---- ----------------------------------- 1.6/14.7 MB 921.7 kB/s eta 0:00:15\n",
      "   ---- ----------------------------------- 1.6/14.7 MB 921.7 kB/s eta 0:00:15\n",
      "   ---- ----------------------------------- 1.6/14.7 MB 921.7 kB/s eta 0:00:15\n",
      "   ----- ---------------------------------- 1.8/14.7 MB 762.4 kB/s eta 0:00:17\n",
      "   ----- ---------------------------------- 1.8/14.7 MB 762.4 kB/s eta 0:00:17\n",
      "   ----- ---------------------------------- 1.8/14.7 MB 762.4 kB/s eta 0:00:17\n",
      "   ----- ---------------------------------- 2.1/14.7 MB 711.8 kB/s eta 0:00:18\n",
      "   ----- ---------------------------------- 2.1/14.7 MB 711.8 kB/s eta 0:00:18\n",
      "   ----- ---------------------------------- 2.1/14.7 MB 711.8 kB/s eta 0:00:18\n",
      "   ------ --------------------------------- 2.4/14.7 MB 671.1 kB/s eta 0:00:19\n",
      "   ------ --------------------------------- 2.4/14.7 MB 671.1 kB/s eta 0:00:19\n",
      "   ------ --------------------------------- 2.4/14.7 MB 671.1 kB/s eta 0:00:19\n",
      "   ------ --------------------------------- 2.4/14.7 MB 671.1 kB/s eta 0:00:19\n",
      "   ------ --------------------------------- 2.4/14.7 MB 671.1 kB/s eta 0:00:19\n",
      "   ------- -------------------------------- 2.6/14.7 MB 549.1 kB/s eta 0:00:22\n",
      "   ------- -------------------------------- 2.6/14.7 MB 549.1 kB/s eta 0:00:22\n",
      "   ------- -------------------------------- 2.9/14.7 MB 561.1 kB/s eta 0:00:22\n",
      "   -------- ------------------------------- 3.1/14.7 MB 585.9 kB/s eta 0:00:20\n",
      "   -------- ------------------------------- 3.1/14.7 MB 585.9 kB/s eta 0:00:20\n",
      "   --------- ------------------------------ 3.4/14.7 MB 597.4 kB/s eta 0:00:19\n",
      "   --------- ------------------------------ 3.4/14.7 MB 597.4 kB/s eta 0:00:19\n",
      "   ---------- ----------------------------- 3.7/14.7 MB 597.6 kB/s eta 0:00:19\n",
      "   ---------- ----------------------------- 3.7/14.7 MB 597.6 kB/s eta 0:00:19\n",
      "   ---------- ----------------------------- 3.9/14.7 MB 600.8 kB/s eta 0:00:18\n",
      "   ---------- ----------------------------- 3.9/14.7 MB 600.8 kB/s eta 0:00:18\n",
      "   ----------- ---------------------------- 4.2/14.7 MB 612.3 kB/s eta 0:00:18\n",
      "   ----------- ---------------------------- 4.2/14.7 MB 612.3 kB/s eta 0:00:18\n",
      "   ------------ --------------------------- 4.5/14.7 MB 612.8 kB/s eta 0:00:17\n",
      "   ------------ --------------------------- 4.7/14.7 MB 625.5 kB/s eta 0:00:16\n",
      "   ------------- -------------------------- 5.0/14.7 MB 639.8 kB/s eta 0:00:16\n",
      "   ------------- -------------------------- 5.0/14.7 MB 639.8 kB/s eta 0:00:16\n",
      "   -------------- ------------------------- 5.2/14.7 MB 641.4 kB/s eta 0:00:15\n",
      "   --------------- ------------------------ 5.5/14.7 MB 651.5 kB/s eta 0:00:15\n",
      "   --------------- ------------------------ 5.5/14.7 MB 651.5 kB/s eta 0:00:15\n",
      "   --------------- ------------------------ 5.8/14.7 MB 664.8 kB/s eta 0:00:14\n",
      "   ---------------- ----------------------- 6.0/14.7 MB 678.5 kB/s eta 0:00:13\n",
      "   ----------------- ---------------------- 6.3/14.7 MB 686.6 kB/s eta 0:00:13\n",
      "   ----------------- ---------------------- 6.6/14.7 MB 702.7 kB/s eta 0:00:12\n",
      "   ------------------ --------------------- 6.8/14.7 MB 707.3 kB/s eta 0:00:12\n",
      "   ------------------ --------------------- 6.8/14.7 MB 707.3 kB/s eta 0:00:12\n",
      "   ------------------- -------------------- 7.1/14.7 MB 707.0 kB/s eta 0:00:11\n",
      "   ------------------- -------------------- 7.1/14.7 MB 707.0 kB/s eta 0:00:11\n",
      "   -------------------- ------------------- 7.3/14.7 MB 706.7 kB/s eta 0:00:11\n",
      "   -------------------- ------------------- 7.6/14.7 MB 715.0 kB/s eta 0:00:10\n",
      "   --------------------- ------------------ 7.9/14.7 MB 722.9 kB/s eta 0:00:10\n",
      "   --------------------- ------------------ 7.9/14.7 MB 722.9 kB/s eta 0:00:10\n",
      "   ---------------------- ----------------- 8.1/14.7 MB 726.3 kB/s eta 0:00:10\n",
      "   ---------------------- ----------------- 8.1/14.7 MB 726.3 kB/s eta 0:00:10\n",
      "   ---------------------- ----------------- 8.1/14.7 MB 726.3 kB/s eta 0:00:10\n",
      "   ---------------------- ----------------- 8.1/14.7 MB 726.3 kB/s eta 0:00:10\n",
      "   ---------------------- ----------------- 8.4/14.7 MB 693.4 kB/s eta 0:00:10\n",
      "   ---------------------- ----------------- 8.4/14.7 MB 693.4 kB/s eta 0:00:10\n",
      "   ----------------------- ---------------- 8.7/14.7 MB 697.2 kB/s eta 0:00:09\n",
      "   ------------------------ --------------- 8.9/14.7 MB 704.4 kB/s eta 0:00:09\n",
      "   ------------------------- -------------- 9.2/14.7 MB 713.0 kB/s eta 0:00:08\n",
      "   ------------------------- -------------- 9.4/14.7 MB 722.3 kB/s eta 0:00:08\n",
      "   -------------------------- ------------- 9.7/14.7 MB 723.3 kB/s eta 0:00:07\n",
      "   --------------------------- ------------ 10.0/14.7 MB 732.9 kB/s eta 0:00:07\n",
      "   --------------------------- ------------ 10.0/14.7 MB 732.9 kB/s eta 0:00:07\n",
      "   --------------------------- ------------ 10.0/14.7 MB 732.9 kB/s eta 0:00:07\n",
      "   --------------------------- ------------ 10.2/14.7 MB 717.1 kB/s eta 0:00:07\n",
      "   --------------------------- ------------ 10.2/14.7 MB 717.1 kB/s eta 0:00:07\n",
      "   --------------------------- ------------ 10.2/14.7 MB 717.1 kB/s eta 0:00:07\n",
      "   --------------------------- ------------ 10.2/14.7 MB 717.1 kB/s eta 0:00:07\n",
      "   ---------------------------- ----------- 10.5/14.7 MB 699.8 kB/s eta 0:00:06\n",
      "   ---------------------------- ----------- 10.5/14.7 MB 699.8 kB/s eta 0:00:06\n",
      "   ----------------------------- ---------- 10.7/14.7 MB 701.2 kB/s eta 0:00:06\n",
      "   ------------------------------ --------- 11.0/14.7 MB 706.2 kB/s eta 0:00:06\n",
      "   ------------------------------ --------- 11.0/14.7 MB 706.2 kB/s eta 0:00:06\n",
      "   ------------------------------ --------- 11.3/14.7 MB 706.0 kB/s eta 0:00:05\n",
      "   ------------------------------ --------- 11.3/14.7 MB 706.0 kB/s eta 0:00:05\n",
      "   ------------------------------ --------- 11.3/14.7 MB 706.0 kB/s eta 0:00:05\n",
      "   ------------------------------- -------- 11.5/14.7 MB 688.4 kB/s eta 0:00:05\n",
      "   ------------------------------- -------- 11.5/14.7 MB 688.4 kB/s eta 0:00:05\n",
      "   ------------------------------- -------- 11.5/14.7 MB 688.4 kB/s eta 0:00:05\n",
      "   ------------------------------- -------- 11.5/14.7 MB 688.4 kB/s eta 0:00:05\n",
      "   ------------------------------- -------- 11.5/14.7 MB 688.4 kB/s eta 0:00:05\n",
      "   -------------------------------- ------- 11.8/14.7 MB 662.1 kB/s eta 0:00:05\n",
      "   -------------------------------- ------- 11.8/14.7 MB 662.1 kB/s eta 0:00:05\n",
      "   -------------------------------- ------- 12.1/14.7 MB 663.4 kB/s eta 0:00:04\n",
      "   --------------------------------- ------ 12.3/14.7 MB 667.6 kB/s eta 0:00:04\n",
      "   ---------------------------------- ----- 12.6/14.7 MB 674.5 kB/s eta 0:00:04\n",
      "   ---------------------------------- ----- 12.6/14.7 MB 674.5 kB/s eta 0:00:04\n",
      "   ----------------------------------- ---- 12.8/14.7 MB 676.2 kB/s eta 0:00:03\n",
      "   ----------------------------------- ---- 12.8/14.7 MB 676.2 kB/s eta 0:00:03\n",
      "   ----------------------------------- ---- 13.1/14.7 MB 675.0 kB/s eta 0:00:03\n",
      "   ------------------------------------ --- 13.4/14.7 MB 678.7 kB/s eta 0:00:02\n",
      "   ------------------------------------ --- 13.4/14.7 MB 678.7 kB/s eta 0:00:02\n",
      "   ------------------------------------- -- 13.6/14.7 MB 679.6 kB/s eta 0:00:02\n",
      "   ------------------------------------- -- 13.6/14.7 MB 679.6 kB/s eta 0:00:02\n",
      "   ------------------------------------- -- 13.9/14.7 MB 682.6 kB/s eta 0:00:02\n",
      "   ------------------------------------- -- 13.9/14.7 MB 682.6 kB/s eta 0:00:02\n",
      "   -------------------------------------- - 14.2/14.7 MB 678.8 kB/s eta 0:00:01\n",
      "   ---------------------------------------  14.4/14.7 MB 681.7 kB/s eta 0:00:01\n",
      "   ---------------------------------------  14.4/14.7 MB 681.7 kB/s eta 0:00:01\n",
      "   ---------------------------------------- 14.7/14.7 MB 684.2 kB/s eta 0:00:00\n",
      "Installing collected packages: numpy\n",
      "  Attempting uninstall: numpy\n",
      "    Found existing installation: numpy 1.24.4\n",
      "    Uninstalling numpy-1.24.4:\n",
      "      Successfully uninstalled numpy-1.24.4\n",
      "Successfully installed numpy-1.23.5\n",
      "Note: you may need to restart the kernel to use updated packages.\n"
     ]
    },
    {
     "name": "stderr",
     "output_type": "stream",
     "text": [
      "  WARNING: Failed to remove contents in a temporary directory 'C:\\Users\\lenovo\\anaconda3\\envs\\tf\\Lib\\site-packages\\~-mpy'.\n",
      "  You can safely remove it manually.\n",
      "ERROR: pip's dependency resolver does not currently take into account all the packages that are installed. This behaviour is the source of the following dependency conflicts.\n",
      "tensorflow 2.3.0 requires numpy<1.19.0,>=1.16.0, but you have numpy 1.23.5 which is incompatible.\n"
     ]
    }
   ],
   "source": [
    "pip install numpy==1.23.5"
   ]
  },
  {
   "cell_type": "code",
   "execution_count": 1,
   "id": "c716ec48-b698-4040-8805-fe530e2daef8",
   "metadata": {},
   "outputs": [],
   "source": [
    "def convert_to_grayscale(img_pil):\n",
    "    img = cv2.imread(img_pil)\n",
    "    gray = cv2.cvtColor(img, cv2.COLOR_BGR2GRAY)\n",
    "    return gray\n",
    "def reduce_noise(img):\n",
    "    blurred = cv2.GaussianBlur(img, (5, 5), 0)\n",
    "    return blurred\n",
    "def binarize_image(img):\n",
    "    _, binary = cv2.threshold(image, 0, 255, cv2.THRESH_BINARY + cv2.THRESH_OTSU)\n",
    "    return binary\n",
    "def normalize_image(img, size=(128, 128)):\n",
    "    normalized = cv2.resize(img, size, interpolation=cv2.INTER_AREA)\n",
    "    return normalized\n",
    "from tensorflow.python.keras.preprocessing.image import ImageDataGenerator\n",
    "import numpy as np\n",
    "\n",
    "# Initialize the data generator with desired augmentations\n",
    "datagen = ImageDataGenerator(\n",
    "    rotation_range=10,\n",
    "    width_shift_range=0.1,\n",
    "    height_shift_range=0.1,\n",
    "    zoom_range=0.1\n",
    ")\n",
    "\n",
    "def augment_image(image):\n",
    "    # Expand dimensions to match the expected input shape\n",
    "    img = np.expand_dims(img, axis=0)\n",
    "    img = np.expand_dims(img, axis=-1)  # Add channel dimension if needed\n",
    "    augmented_iter = datagen.flow(img, batch_size=1)\n",
    "    augmented_img = next(augmented_iter)[0].astype('uint8')\n",
    "    return augmented_img"
   ]
  },
  {
   "cell_type": "code",
   "execution_count": 3,
   "id": "9450d4e2-aa9d-4b7b-8061-6c45bbbfb043",
   "metadata": {},
   "outputs": [],
   "source": [
    "char_list = [\n",
    "    'ଅ', 'ଆ', 'ଇ', 'ଈ', 'ଉ', 'ଊ', 'ଋ', 'ଌ', 'ଏ', 'ଐ', 'ଓ', 'ଔ',\n",
    "    'କ', 'ଖ', 'ଗ', 'ଘ', 'ଙ', 'ଚ', 'ଛ', 'ଜ', 'ଝ', 'ଞ',\n",
    "    'ଟ', 'ଠ', 'ଡ', 'ଢ', 'ଣ', 'ତ', 'ଥ', 'ଦ', 'ଧ', 'ନ',\n",
    "    'ପ', 'ଫ', 'ବ', 'ଭ', 'ମ', 'ଯ', 'ର', 'ଲ', 'ଳ', 'ଶ', 'ଷ', 'ସ', 'ହ',\n",
    "    'ା', 'ି', 'ୀ', 'ୁ', 'ୂ', 'ୃ', 'ୄ', 'େ', 'ୈ', 'ୋ', 'ୌ',\n",
    "    '୦', '୧', '୨', '୩', '୪', '୫', '୬', '୭', '୮', '୯',\n",
    "    'ଂ', 'ଃ', 'ଁ', '୍'\n",
    "]\n"
   ]
  },
  {
   "cell_type": "code",
   "execution_count": 4,
   "id": "4a5a6676-51fd-4707-8ef4-6a6dd03aee94",
   "metadata": {},
   "outputs": [],
   "source": [
    "# Create a mapping from characters to integers\n",
    "char_to_num = {char: idx for idx, char in enumerate(char_list)}\n",
    "\n",
    "# Create a mapping from integers to characters\n",
    "num_to_char = {idx: char for idx, char in enumerate(char_list)}\n"
   ]
  },
  {
   "cell_type": "code",
   "execution_count": 5,
   "id": "334fbd4e-927b-4b6f-a351-05d34ce6435c",
   "metadata": {},
   "outputs": [],
   "source": [
    "def encode_label(text):\n",
    "    return [char_to_num[char] for char in text if char in char_to_num]\n"
   ]
  },
  {
   "cell_type": "code",
   "execution_count": 1,
   "id": "d5f523e0-fc9c-4f23-a90b-28a417d61e45",
   "metadata": {},
   "outputs": [],
   "source": [
    "import tensorflow as tf"
   ]
  },
  {
   "cell_type": "code",
   "execution_count": 3,
   "id": "9ef73bdf-9072-4371-9a0c-30be0e71d1bc",
   "metadata": {},
   "outputs": [
    {
     "name": "stdout",
     "output_type": "stream",
     "text": [
      "ஞ\n"
     ]
    }
   ],
   "source": [
    "code_point = 2974  # Replace with your code\n",
    "print(chr(code_point))\n"
   ]
  },
  {
   "cell_type": "code",
   "execution_count": 4,
   "id": "f4ab7265-b0fe-40e8-a59d-e922b22b1960",
   "metadata": {},
   "outputs": [
    {
     "name": "stdout",
     "output_type": "stream",
     "text": [
      "[2839, 2881, 2851, 2893, 2849, 2878]\n"
     ]
    }
   ],
   "source": [
    "odia_word = 'ଗୁଣ୍ଡା'\n",
    "code_points = [ord(char) for char in odia_word]\n",
    "print(code_points)\n"
   ]
  },
  {
   "cell_type": "code",
   "execution_count": 7,
   "id": "074cbd6d-5224-46e0-a600-6259ca0f7f10",
   "metadata": {},
   "outputs": [
    {
     "ename": "FileNotFoundError",
     "evalue": "[Errno 2] No such file or directory: 'code_to_text'",
     "output_type": "error",
     "traceback": [
      "\u001b[1;31m---------------------------------------------------------------------------\u001b[0m",
      "\u001b[1;31mFileNotFoundError\u001b[0m                         Traceback (most recent call last)",
      "Cell \u001b[1;32mIn[7], line 3\u001b[0m\n\u001b[0;32m      1\u001b[0m code_to_text \u001b[38;5;241m=\u001b[39m {}\n\u001b[1;32m----> 3\u001b[0m \u001b[38;5;28;01mwith\u001b[39;00m \u001b[38;5;28;43mopen\u001b[39;49m\u001b[43m(\u001b[49m\u001b[38;5;124;43m'\u001b[39;49m\u001b[38;5;124;43mcode_to_text\u001b[39;49m\u001b[38;5;124;43m'\u001b[39;49m\u001b[43m,\u001b[49m\u001b[43m \u001b[49m\u001b[38;5;124;43m'\u001b[39;49m\u001b[38;5;124;43mr\u001b[39;49m\u001b[38;5;124;43m'\u001b[39;49m\u001b[43m,\u001b[49m\u001b[43m \u001b[49m\u001b[43mencoding\u001b[49m\u001b[38;5;241;43m=\u001b[39;49m\u001b[38;5;124;43m'\u001b[39;49m\u001b[38;5;124;43mutf-8\u001b[39;49m\u001b[38;5;124;43m'\u001b[39;49m\u001b[43m)\u001b[49m \u001b[38;5;28;01mas\u001b[39;00m f:\n\u001b[0;32m      4\u001b[0m     \u001b[38;5;28;01mfor\u001b[39;00m line \u001b[38;5;129;01min\u001b[39;00m f:\n\u001b[0;32m      5\u001b[0m         line \u001b[38;5;241m=\u001b[39m line\u001b[38;5;241m.\u001b[39mstrip()\n",
      "File \u001b[1;32m~\\anaconda3\\envs\\tf\\lib\\site-packages\\IPython\\core\\interactiveshell.py:284\u001b[0m, in \u001b[0;36m_modified_open\u001b[1;34m(file, *args, **kwargs)\u001b[0m\n\u001b[0;32m    277\u001b[0m \u001b[38;5;28;01mif\u001b[39;00m file \u001b[38;5;129;01min\u001b[39;00m {\u001b[38;5;241m0\u001b[39m, \u001b[38;5;241m1\u001b[39m, \u001b[38;5;241m2\u001b[39m}:\n\u001b[0;32m    278\u001b[0m     \u001b[38;5;28;01mraise\u001b[39;00m \u001b[38;5;167;01mValueError\u001b[39;00m(\n\u001b[0;32m    279\u001b[0m         \u001b[38;5;124mf\u001b[39m\u001b[38;5;124m\"\u001b[39m\u001b[38;5;124mIPython won\u001b[39m\u001b[38;5;124m'\u001b[39m\u001b[38;5;124mt let you open fd=\u001b[39m\u001b[38;5;132;01m{\u001b[39;00mfile\u001b[38;5;132;01m}\u001b[39;00m\u001b[38;5;124m by default \u001b[39m\u001b[38;5;124m\"\u001b[39m\n\u001b[0;32m    280\u001b[0m         \u001b[38;5;124m\"\u001b[39m\u001b[38;5;124mas it is likely to crash IPython. If you know what you are doing, \u001b[39m\u001b[38;5;124m\"\u001b[39m\n\u001b[0;32m    281\u001b[0m         \u001b[38;5;124m\"\u001b[39m\u001b[38;5;124myou can use builtins\u001b[39m\u001b[38;5;124m'\u001b[39m\u001b[38;5;124m open.\u001b[39m\u001b[38;5;124m\"\u001b[39m\n\u001b[0;32m    282\u001b[0m     )\n\u001b[1;32m--> 284\u001b[0m \u001b[38;5;28;01mreturn\u001b[39;00m \u001b[43mio_open\u001b[49m\u001b[43m(\u001b[49m\u001b[43mfile\u001b[49m\u001b[43m,\u001b[49m\u001b[43m \u001b[49m\u001b[38;5;241;43m*\u001b[39;49m\u001b[43margs\u001b[49m\u001b[43m,\u001b[49m\u001b[43m \u001b[49m\u001b[38;5;241;43m*\u001b[39;49m\u001b[38;5;241;43m*\u001b[39;49m\u001b[43mkwargs\u001b[49m\u001b[43m)\u001b[49m\n",
      "\u001b[1;31mFileNotFoundError\u001b[0m: [Errno 2] No such file or directory: 'code_to_text'"
     ]
    }
   ],
   "source": [
    "code_to_text = {}\n",
    "\n",
    "with open('code_to_text.txt', 'r', encoding='utf-8') as f:\n",
    "    for line in f:\n",
    "        line = line.strip()\n",
    "        if line:\n",
    "            code, word = line.split(',')\n",
    "            code = code.strip()\n",
    "            word = word.strip()\n",
    "            code_to_text[code] = word\n"
   ]
  },
  {
   "cell_type": "code",
   "execution_count": 2,
   "id": "9a04dbb0-d88e-453b-b2ed-236505867048",
   "metadata": {},
   "outputs": [
    {
     "name": "stdout",
     "output_type": "stream",
     "text": [
      "Collecting wgetNote: you may need to restart the kernel to use updated packages.\n",
      "\n",
      "  Downloading wget-3.2.zip (10 kB)\n",
      "  Preparing metadata (setup.py): started\n",
      "  Preparing metadata (setup.py): finished with status 'done'\n",
      "Building wheels for collected packages: wget\n",
      "  Building wheel for wget (setup.py): started\n",
      "  Building wheel for wget (setup.py): finished with status 'done'\n",
      "  Created wheel for wget: filename=wget-3.2-py3-none-any.whl size=9680 sha256=91a8790a53f3f58657a0815824e3af95c77f15948e5b13413d1069ab15ef894f\n",
      "  Stored in directory: c:\\users\\lenovo\\appdata\\local\\pip\\cache\\wheels\\bd\\a8\\c3\\3cf2c14a1837a4e04bd98631724e81f33f462d86a1d895fae0\n",
      "Successfully built wget\n",
      "Installing collected packages: wget\n",
      "Successfully installed wget-3.2\n"
     ]
    }
   ],
   "source": [
    "pip install wget"
   ]
  },
  {
   "cell_type": "code",
   "execution_count": 4,
   "id": "e5a7c6de-d4b7-4e65-834a-f1d99fa12563",
   "metadata": {},
   "outputs": [
    {
     "name": "stdout",
     "output_type": "stream",
     "text": [
      "Collecting config\n",
      "  Downloading config-0.5.1-py2.py3-none-any.whl.metadata (1.4 kB)\n",
      "Downloading config-0.5.1-py2.py3-none-any.whl (20 kB)\n",
      "Installing collected packages: config\n",
      "Successfully installed config-0.5.1\n",
      "Note: you may need to restart the kernel to use updated packages.\n"
     ]
    }
   ],
   "source": [
    "pip install config"
   ]
  },
  {
   "cell_type": "code",
   "execution_count": 1,
   "id": "d8b131d6-5739-4ae6-8a13-430cf307fa35",
   "metadata": {},
   "outputs": [
    {
     "ename": "ImportError",
     "evalue": "cannot import name 'MODELPATH' from 'config' (C:\\Users\\lenovo\\anaconda3\\envs\\tf\\lib\\site-packages\\config\\__init__.py)",
     "output_type": "error",
     "traceback": [
      "\u001b[1;31m---------------------------------------------------------------------------\u001b[0m",
      "\u001b[1;31mImportError\u001b[0m                               Traceback (most recent call last)",
      "Cell \u001b[1;32mIn[1], line 2\u001b[0m\n\u001b[0;32m      1\u001b[0m \u001b[38;5;28;01mimport\u001b[39;00m \u001b[38;5;21;01mwget\u001b[39;00m\u001b[38;5;241m,\u001b[39m\u001b[38;5;21;01mos\u001b[39;00m\n\u001b[1;32m----> 2\u001b[0m \u001b[38;5;28;01mfrom\u001b[39;00m \u001b[38;5;21;01mconfig\u001b[39;00m \u001b[38;5;28;01mimport\u001b[39;00m MODELPATH\n\u001b[0;32m      4\u001b[0m links \u001b[38;5;241m=\u001b[39m [\n\u001b[0;32m      5\u001b[0m \u001b[38;5;124m'\u001b[39m\u001b[38;5;124mhttps://github.com/kasuba-badri-vishal/doctr-iitb/releases/download/Indic_Models/crnn_vgg16_bn_handwritten_odia.pt\u001b[39m\u001b[38;5;124m'\u001b[39m\n\u001b[0;32m      6\u001b[0m ]\n\u001b[0;32m     11\u001b[0m \u001b[38;5;28;01mfor\u001b[39;00m link \u001b[38;5;129;01min\u001b[39;00m links:\n",
      "\u001b[1;31mImportError\u001b[0m: cannot import name 'MODELPATH' from 'config' (C:\\Users\\lenovo\\anaconda3\\envs\\tf\\lib\\site-packages\\config\\__init__.py)"
     ]
    }
   ],
   "source": [
    "import wget,os\n",
    "from config import MODELPATH\n",
    "\n",
    "links = [\n",
    "'https://github.com/kasuba-badri-vishal/doctr-iitb/releases/download/Indic_Models/crnn_vgg16_bn_handwritten_odia.pt'\n",
    "]\n",
    "\n",
    "\n",
    "\n",
    "\n",
    "for link in links:\n",
    "    try:\n",
    "        os.system('wget -nc {} {}'.format(MODELPATH,link))\n",
    "    except:\n",
    "        wget.download(link, MODELPATH)\n",
    "    \n",
    "print(\"\\nDownloaded all models\")"
   ]
  },
  {
   "cell_type": "code",
   "execution_count": 2,
   "id": "5e9518d5-3af0-41c0-b16a-e0a7473448a2",
   "metadata": {},
   "outputs": [
    {
     "ename": "SyntaxError",
     "evalue": "invalid syntax (876985662.py, line 1)",
     "output_type": "error",
     "traceback": [
      "\u001b[1;36m  Cell \u001b[1;32mIn[2], line 1\u001b[1;36m\u001b[0m\n\u001b[1;33m    git clone https://github.com/IITB-LEAP-OCR/Indic-OCR-API.git\u001b[0m\n\u001b[1;37m        ^\u001b[0m\n\u001b[1;31mSyntaxError\u001b[0m\u001b[1;31m:\u001b[0m invalid syntax\n"
     ]
    }
   ],
   "source": [
    "git clone https://github.com/IITB-LEAP-OCR/Indic-OCR-API.git\n",
    "cd Indic-OCR-API\n"
   ]
  },
  {
   "cell_type": "code",
   "execution_count": 27,
   "id": "32ae6676-0707-43d2-bf21-5dc6a033df0a",
   "metadata": {},
   "outputs": [],
   "source": [
    "from PIL import Image, ImageEnhance, ImageFilter\n",
    "\n",
    "def preprocess_image(image_path):\n",
    "    image = Image.open(image_path)\n",
    "    image = image.convert('L')  # Convert to grayscale\n",
    "    image = image.filter(ImageFilter.MedianFilter())\n",
    "    enhancer = ImageEnhance.Contrast(image)\n",
    "    image = enhancer.enhance(2)\n",
    "    image.save('processed_image.png')\n",
    "    return 'processed_image.png'\n",
    "\n",
    "image_path = preprocess_image('train_2.jpg')\n"
   ]
  },
  {
   "cell_type": "code",
   "execution_count": 7,
   "id": "0271bfab-b691-487d-bf7f-2e1d414bea4b",
   "metadata": {},
   "outputs": [
    {
     "name": "stdout",
     "output_type": "stream",
     "text": [
      "Recognized Text:\n",
      "\n"
     ]
    }
   ],
   "source": [
    "import requests\n",
    "\n",
    "# Define the API endpoint\n",
    "url = 'http://localhost:5000/api/v1/upload'  # Adjust the port if different\n",
    "\n",
    "# Open the image file in binary mode\n",
    "with open(image_path, 'rb') as img_file:\n",
    "    files = {'file': img_file}\n",
    "    response = requests.post(url, files=files)\n",
    "\n",
    "# Check the response\n",
    "if response.status_code == 200:\n",
    "    result = response.json()\n",
    "    recognized_text = result.get('text', '')\n",
    "    print(\"Recognized Text:\")\n",
    "    print(recognized_text)\n",
    "else:\n",
    "    print(f\"Error: {response.status_code}\")\n",
    "    print(response.text)\n"
   ]
  },
  {
   "cell_type": "code",
   "execution_count": 28,
   "id": "3b68ceda-b499-4c5b-a427-7a2cecbfdc40",
   "metadata": {},
   "outputs": [
    {
     "name": "stdout",
     "output_type": "stream",
     "text": [
      "Upload Response: {'data': {'ids': ['55752d79-69f6-463e-abe4-55a43e8f70ec']}}\n"
     ]
    }
   ],
   "source": [
    "import requests\n",
    "\n",
    "# Replace with your actual image file path\n",
    "image_path = 'train_2.jpg'\n",
    "upload_url = 'http://localhost:5000/api/v1/upload'  # Update port if different\n",
    "\n",
    "with open(image_path, 'rb') as img_file:\n",
    "    files = {'file': img_file}\n",
    "    response = requests.post(upload_url, files=files)\n",
    "\n",
    "# Check if the request was successful\n",
    "if response.status_code == 200:\n",
    "    upload_result = response.json()\n",
    "    print(\"Upload Response:\", upload_result)\n",
    "    # Extract the ID for inference\n",
    "    image_id = upload_result['data']['ids'][0]\n",
    "else:\n",
    "    print(f\"Upload failed with status code {response.status_code}: {response.text}\")\n"
   ]
  },
  {
   "cell_type": "code",
   "execution_count": 29,
   "id": "83a06fcd-6dd4-410d-a308-df940e573acd",
   "metadata": {},
   "outputs": [
    {
     "name": "stdout",
     "output_type": "stream",
     "text": [
      "Inference Response: {'data': [{'file_path': '/data/app/src/uploads/img_55752d79-69f6-463e-abe4-55a43e8f70ec.jpg', 'id': '55752d79-69f6-463e-abe4-55a43e8f70ec', 'language': 'odia', 'level': 'word', 'meta': {'device': 0}, 'modality': 'handwritten', 'model-id': '1', 'text': 'ସୀମାରେ'}]}\n",
      "Recognized text has been saved to 'output.txt'.\n"
     ]
    }
   ],
   "source": [
    "import json\n",
    "import requests\n",
    "\n",
    "inference_url = 'http://localhost:5000/api/v1/inference'  # Update port if different\n",
    "\n",
    "# Prepare the payload for inference\n",
    "payload = [{\n",
    "    \"id\": image_id,\n",
    "    \"modality\": \"handwritten\",  # or \"printed\" based on your image\n",
    "    \"level\": \"word\",            # or \"line\" based on your requirement\n",
    "    \"language\": \"odia\",         # or \"hindi\", \"bengali\", etc.\n",
    "    \"model-id\": \"1\",\n",
    "    \"meta\": {\n",
    "        \"device\": 0  # Use 0 for CPU, 1 for GPU if available\n",
    "    }\n",
    "}]\n",
    "\n",
    "headers = {'Content-Type': 'application/json'}\n",
    "\n",
    "# Send the inference request\n",
    "response = requests.post(inference_url, headers=headers, data=json.dumps(payload))\n",
    "\n",
    "# Check if the request was successful\n",
    "if response.status_code == 200:\n",
    "    inference_result = response.json()\n",
    "    print(\"Inference Response:\", inference_result)\n",
    "\n",
    "    # Extract recognized text and save to output.txt\n",
    "    recognized_texts = []\n",
    "    for item in inference_result.get('data', []):\n",
    "        text = item.get('text', '')\n",
    "        if text:\n",
    "            recognized_texts.append(text)\n",
    "\n",
    "    final_text = '\\n'.join(recognized_texts)\n",
    "\n",
    "    with open('output.txt', 'w', encoding='utf-8') as file:\n",
    "        file.write(final_text)\n",
    "\n",
    "    print(\"Recognized text has been saved to 'output.txt'.\")\n",
    "\n",
    "else:\n",
    "    print(f\"Inference failed with status code {response.status_code}: {response.text}\")\n"
   ]
  },
  {
   "cell_type": "code",
   "execution_count": null,
   "id": "47b91852-2f61-4542-9150-21ea12c65562",
   "metadata": {},
   "outputs": [],
   "source": []
  }
 ],
 "metadata": {
  "kernelspec": {
   "display_name": "Python 3 (ipykernel)",
   "language": "python",
   "name": "python3"
  },
  "language_info": {
   "codemirror_mode": {
    "name": "ipython",
    "version": 3
   },
   "file_extension": ".py",
   "mimetype": "text/x-python",
   "name": "python",
   "nbconvert_exporter": "python",
   "pygments_lexer": "ipython3",
   "version": "3.8.20"
  }
 },
 "nbformat": 4,
 "nbformat_minor": 5
}
